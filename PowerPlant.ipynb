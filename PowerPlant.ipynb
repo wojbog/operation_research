{
 "cells": [
  {
   "cell_type": "markdown",
   "metadata": {},
   "source": [
    "# Lab 7 - Dynamic Programming - Power Plant"
   ]
  },
  {
   "cell_type": "markdown",
   "metadata": {},
   "source": [
    "Information on group members:\n",
    "\n",
    "1) 156034, Wojciech Bogacz <br>\n",
    "2) 156039, Krzysztof Skrobała"
   ]
  },
  {
   "cell_type": "code",
   "execution_count": 90,
   "metadata": {},
   "outputs": [],
   "source": [
    "%matplotlib inline\n",
    "\n",
    "from sympy.interactive import printing\n",
    "printing.init_printing(use_latex=True)\n",
    "\n",
    "import matplotlib.pyplot as plt\n",
    "import sympy as sym\n",
    "from sympy import *\n",
    "import numpy as np"
   ]
  },
  {
   "cell_type": "markdown",
   "metadata": {},
   "source": [
    "This exercise is inspired by Ex. 2 in the Exercises.pdf file. You have to set operating levels for a power plant for consecutive two-months in a way that minimizes the operating costs (using dynamic programming). Before going to the exercise, it is recommended to get acquainted with a Python library for symbolic calculations - SymPy, which can be particularly helpful for solving this task. "
   ]
  },
  {
   "cell_type": "markdown",
   "metadata": {},
   "source": [
    "# Mini tutorial on SymPy"
   ]
  },
  {
   "cell_type": "markdown",
   "metadata": {},
   "source": [
    "SymPy is a library for performing symbolic calculations instead of numerical. It allows defining symbols, functions, expressions, equations and performing various operations on them. The examples of such operations that can help solve this exercise are given below. Note that due to lines: <br><br>\n",
    "from sympy.interactive import printing <br>\n",
    "printing.init_printing(use_latex=True)  <br><br>\n",
    "located in the first cell of this notebook, the symbols can be printed using latex, improving hence readability"
   ]
  },
  {
   "cell_type": "markdown",
   "metadata": {},
   "source": [
    "<b> Defining symbols: </b>"
   ]
  },
  {
   "cell_type": "code",
   "execution_count": 2,
   "metadata": {},
   "outputs": [],
   "source": [
    "z1, z2 = symbols(\"z1 z2\")\n",
    "# or z = symbols(\"z1 z2\")"
   ]
  },
  {
   "cell_type": "markdown",
   "metadata": {},
   "source": [
    "<b> Printing a symbol using Latex: </b>"
   ]
  },
  {
   "cell_type": "code",
   "execution_count": 3,
   "metadata": {},
   "outputs": [
    {
     "data": {
      "image/png": "[encoded data removed]",
      "text/latex": [
       "$\\displaystyle z_{1}$"
      ],
      "text/plain": [
       "z₁"
      ]
     },
     "execution_count": 3,
     "metadata": {},
     "output_type": "execute_result"
    }
   ],
   "source": [
    "z1"
   ]
  },
  {
   "cell_type": "markdown",
   "metadata": {},
   "source": [
    "<b> Defining an expression: </b>"
   ]
  },
  {
   "cell_type": "code",
   "execution_count": 4,
   "metadata": {},
   "outputs": [
    {
     "data": {
      "image/png": "[encoded data removed]",
      "text/latex": [
       "$\\displaystyle 2 z_{1} + \\left(10 - z_{2}\\right)^{2}$"
      ],
      "text/plain": [
       "                2\n",
       "2⋅z₁ + (10 - z₂) "
      ]
     },
     "execution_count": 4,
     "metadata": {},
     "output_type": "execute_result"
    }
   ],
   "source": [
    "2*z1 + (10-z2)**2"
   ]
  },
  {
   "cell_type": "markdown",
   "metadata": {},
   "source": [
    "<b>Expanding the expression:</b>"
   ]
  },
  {
   "cell_type": "code",
   "execution_count": 5,
   "metadata": {},
   "outputs": [
    {
     "data": {
      "image/png": "[encoded data removed]",
      "text/latex": [
       "$\\displaystyle 2 z_{1} + z_{2}^{2} - 20 z_{2} + 100$"
      ],
      "text/plain": [
       "         2              \n",
       "2⋅z₁ + z₂  - 20⋅z₂ + 100"
      ]
     },
     "execution_count": 5,
     "metadata": {},
     "output_type": "execute_result"
    }
   ],
   "source": [
    "expand(2*z1 + (10-z2)**2)"
   ]
  },
  {
   "cell_type": "markdown",
   "metadata": {},
   "source": [
    "<b> Simplifying the expression:</b>"
   ]
  },
  {
   "cell_type": "code",
   "execution_count": 6,
   "metadata": {},
   "outputs": [
    {
     "data": {
      "image/png": "[encoded data removed]",
      "text/latex": [
       "$\\displaystyle - z_{1}^{2} - 8 z_{1} + z_{2}^{2} - 20 z_{2} + 75$"
      ],
      "text/plain": [
       "    2            2             \n",
       "- z₁  - 8⋅z₁ + z₂  - 20⋅z₂ + 75"
      ]
     },
     "execution_count": 6,
     "metadata": {},
     "output_type": "execute_result"
    }
   ],
   "source": [
    "e = simplify(expand(2*z1 + (10-z2)**2 - (5+z1)**2))\n",
    "e"
   ]
  },
  {
   "cell_type": "markdown",
   "metadata": {},
   "source": [
    "<b> Substituting a variable with a value in the expression:</b>"
   ]
  },
  {
   "cell_type": "code",
   "execution_count": 7,
   "metadata": {},
   "outputs": [
    {
     "name": "stdout",
     "output_type": "stream",
     "text": [
      "20.0000000000000\n"
     ]
    }
   ],
   "source": [
    "e = 2*z1 + (10-z1)**2\n",
    "v = e.evalf(subs={z1: 10})\n",
    "print(v)"
   ]
  },
  {
   "cell_type": "markdown",
   "metadata": {},
   "source": [
    "<b> Substituting a variable with another variable or value:</b>"
   ]
  },
  {
   "cell_type": "code",
   "execution_count": 8,
   "metadata": {},
   "outputs": [
    {
     "data": {
      "image/png": "[encoded data removed]",
      "text/latex": [
       "$\\displaystyle 2 z_{1} + \\left(10 - z_{1}\\right)^{2}$"
      ],
      "text/plain": [
       "                2\n",
       "2⋅z₁ + (10 - z₁) "
      ]
     },
     "execution_count": 8,
     "metadata": {},
     "output_type": "execute_result"
    }
   ],
   "source": [
    "e = 2*z1 + (10-z2)**2\n",
    "e.subs(z2, z1)"
   ]
  },
  {
   "cell_type": "markdown",
   "metadata": {},
   "source": [
    "<b> Finding a (partial) derivative: </b>"
   ]
  },
  {
   "cell_type": "code",
   "execution_count": 9,
   "metadata": {},
   "outputs": [
    {
     "data": {
      "image/png": "[encoded data removed]",
      "text/latex": [
       "$\\displaystyle 2 z_{2} - 20$"
      ],
      "text/plain": [
       "2⋅z₂ - 20"
      ]
     },
     "execution_count": 9,
     "metadata": {},
     "output_type": "execute_result"
    }
   ],
   "source": [
    "e = 2*z1 + (10-z2)**2\n",
    "d = diff(e, z2)\n",
    "d"
   ]
  },
  {
   "cell_type": "markdown",
   "metadata": {},
   "source": [
    "<b> Solving an equation: </b>"
   ]
  },
  {
   "cell_type": "code",
   "execution_count": 10,
   "metadata": {},
   "outputs": [
    {
     "name": "stdout",
     "output_type": "stream",
     "text": [
      "[10]\n"
     ]
    }
   ],
   "source": [
    "e = 2*z1 + (10-z2)**2\n",
    "d = diff(e, z2)\n",
    "v = solve(Eq(d, 0), z2)\n",
    "print(v)"
   ]
  },
  {
   "cell_type": "markdown",
   "metadata": {},
   "source": [
    "# Exercise"
   ]
  },
  {
   "cell_type": "markdown",
   "metadata": {},
   "source": [
    "Below given is the data. In contrast to the exercise shown in the Exercise.pdf file, note that all pairs of all 12 months are considered stages in this notebook. "
   ]
  },
  {
   "cell_type": "code",
   "execution_count": 91,
   "metadata": {},
   "outputs": [
    {
     "data": {
      "image/png": "[encoded data removed]",
      "text/plain": [
       "<Figure size 640x480 with 1 Axes>"
      ]
     },
     "metadata": {},
     "output_type": "display_data"
    }
   ],
   "source": [
    "months = [\"Jan-Feb\", \"Mar-Apr\", \"May-Jun\", \"Jul-Aug\", \"Sep-Oct\", \"Nov-Dec\"]\n",
    "\n",
    "### min requested operating level (1-10) + allowable bounds \n",
    "request = [8,5,2,4,7,10]\n",
    "bounds = [[request[i], 10] for i in range(6)]\n",
    "\n",
    "plt.plot([i for i in range(12)], request + request, label='linear')\n",
    "plt.show()"
   ]
  },
  {
   "cell_type": "markdown",
   "metadata": {},
   "source": [
    "<b> Cost: </b> Working above the required level - cost in a generic form:"
   ]
  },
  {
   "cell_type": "code",
   "execution_count": 92,
   "metadata": {},
   "outputs": [
    {
     "data": {
      "image/png": "[encoded data removed]",
      "text/latex": [
       "$\\displaystyle m_{i1} \\left(- r_{i} + x_{i}\\right)$"
      ],
      "text/plain": [
       "m_{i1}⋅(-rᵢ + xᵢ)"
      ]
     },
     "execution_count": 92,
     "metadata": {},
     "output_type": "execute_result"
    }
   ],
   "source": [
    "xi, ri, mi1 = symbols(\"x_i r_i m_{i1}\") \n",
    "cost_above = mi1*(xi-ri)\n",
    "cost_above #mi1 = multiplicator, #xi = operating level #ri = requirement (lower bound)"
   ]
  },
  {
   "cell_type": "markdown",
   "metadata": {},
   "source": [
    "You can do c = cost_above.copy() and then c.subs, replacing variables with values (m, p, r) or other variables (r): "
   ]
  },
  {
   "cell_type": "code",
   "execution_count": 93,
   "metadata": {},
   "outputs": [
    {
     "data": {
      "image/png": "[encoded data removed]",
      "text/latex": [
       "$\\displaystyle x_{1} - 100$"
      ],
      "text/plain": [
       "x₁ - 100"
      ]
     },
     "execution_count": 93,
     "metadata": {},
     "output_type": "execute_result"
    }
   ],
   "source": [
    "x1 = symbols(\"x1\") \n",
    "c = cost_above.copy()\n",
    "c = c.subs(xi, x1)\n",
    "c = c.subs(mi1, 1)\n",
    "c = c.subs(ri, 100)\n",
    "c"
   ]
  },
  {
   "cell_type": "markdown",
   "metadata": {},
   "source": [
    "Below are provided m parameter values for each month:"
   ]
  },
  {
   "cell_type": "code",
   "execution_count": 94,
   "metadata": {},
   "outputs": [],
   "source": [
    "mv1 = [2, 8, 10, 12, 10, 6]"
   ]
  },
  {
   "cell_type": "markdown",
   "metadata": {},
   "source": [
    "<b> Cost: </b> Chaging the operating level - cost in a generic form:"
   ]
  },
  {
   "cell_type": "code",
   "execution_count": 95,
   "metadata": {},
   "outputs": [
    {
     "data": {
      "image/png": "[encoded data removed]",
      "text/latex": [
       "$\\displaystyle m_{i2} \\left(- s_{i} + x_{i}\\right)^{p_{i}}$"
      ],
      "text/plain": [
       "                    pᵢ\n",
       "m_{i2}⋅(-s_{i} + xᵢ)  "
      ]
     },
     "execution_count": 95,
     "metadata": {},
     "output_type": "execute_result"
    }
   ],
   "source": [
    "si, mi2, pi = symbols(\"s_{i} m_{i2} p_i\") \n",
    "cost_change = mi2*(xi-si)**pi\n",
    "cost_change #mi2 = multiplicator, #pi = exponent #xi = operating level (i-th month) #s_{i} = state: operating level ((i-1)-th month)\n",
    "cost_change"
   ]
  },
  {
   "cell_type": "markdown",
   "metadata": {},
   "source": [
    "Below are provided m and p parameter values for each month:"
   ]
  },
  {
   "cell_type": "code",
   "execution_count": 96,
   "metadata": {},
   "outputs": [],
   "source": [
    "mv2 = [6, 4, 1, 1, 3, 5]\n",
    "pv = [2, 2, 2, 2, 2, 2]"
   ]
  },
  {
   "cell_type": "markdown",
   "metadata": {},
   "source": [
    "# Solution:"
   ]
  },
  {
   "cell_type": "markdown",
   "metadata": {},
   "source": [
    "Apart from finding optimal operating levels for each month, plot these values along with the lower bounds for each month in order to show how they change in time.<br><br>Hints:<br>\n",
    "- the optimal cost = 135.42<br>\n",
    "- there is no situation when the minima for first derivatives are outside allowable bounds (but test it anyway)<br><br>\n",
    "\n",
    "After obtaining and plotting the solution, check what would happen is you change the mv1[2] parameter to 5. "
   ]
  },
  {
   "cell_type": "code",
   "execution_count": 97,
   "metadata": {},
   "outputs": [
    {
     "name": "stdout",
     "output_type": "stream",
     "text": [
      "ITERATION 6\n",
      "6*x_6 + 5*(-s_6 + x_6)**2 - 60\n",
      "der: -10*s_6 + 10*x_6 + 6\n",
      "x_value: 10\n",
      "fn: 500.0*(1 - 0.1*s_6)**2\n",
      "----------------------------\n",
      "ITERATION 5\n",
      "10*x_5 + 500.0*(1 - 0.1*x_5)**2 + 3*(-s_5 + x_5)**2 - 70\n",
      "der: -6*s_5 + 16.0*x_5 - 90.0\n",
      "x_value: 0.375*s_5 + 5.625\n",
      "fn: 3.75*s_5 + 94.921875*(1.0 - 0.111111111111111*s_5)**2 + 95.703125*(1.0 - 0.0857142857142857*s_5)**2 - 13.75\n",
      "----------------------------\n",
      "ITERATION 4\n",
      "15.75*x_4 + 94.921875*(1.0 - 0.111111111111111*x_4)**2 + 95.703125*(1.0 - 0.0857142857142857*x_4)**2 + (-s_4 + x_4)**2 - 61.75\n",
      "der: -2*s_4 + 5.75*x_4 - 21.75\n",
      "x_value: 0.347826086956522*s_4 + 3.78260869565217\n",
      "fn: 5.47826086956522*s_4 + 14.3081285444234*(1.0 - 0.172413793103448*s_4)**2 + 31.8998109640832*(1.0 - 0.0666666666666667*s_4)**2 + 43.7051039697543*(1.0 - 0.0441176470588235*s_4)**2 - 2.17391304347827\n",
      "----------------------------\n",
      "ITERATION 3\n",
      "15.4782608695652*x_3 + 14.3081285444234*(1.0 - 0.172413793103448*x_3)**2 + 31.8998109640832*(1.0 - 0.0666666666666667*x_3)**2 + 43.7051039697543*(1.0 - 0.0441176470588235*x_3)**2 + (-s_3 + x_3)**2 - 22.1739130434783\n",
      "der: -2*s_3 + 3.30434782608696*x_3 + 2.43478260869565\n",
      "x_value: 0.605263157894737*s_3 - 0.736842105263158\n",
      "fn: 9.36842105263158*s_3 + 18.1745152354571*(1.0 - 0.0925925925925926*s_3)**2 + 35.1108033240997*(1.0 - 0.0384615384615385*s_3)**2 + 46.5927977839335*(1.0 - 0.0258620689655172*s_3)**2 + 0.542936288088643*(-0.535714285714286*s_3 - 1.0)**2 - 33.5789473684211\n",
      "----------------------------\n",
      "ITERATION 2\n",
      "17.3684210526316*x_2 + 18.1745152354571*(1.0 - 0.0925925925925926*x_2)**2 + 35.1108033240997*(1.0 - 0.0384615384615385*x_2)**2 + 46.5927977839335*(1.0 - 0.0258620689655172*x_2)**2 + 4*(-s_2 + x_2)**2 + 0.542936288088643*(-0.535714285714286*x_2 - 1.0)**2 - 73.5789473684211\n",
      "der: -8*s_2 + 8.78947368421053*x_2 + 9.47368421052632\n",
      "x_value: 0.910179640718563*s_2 - 1.07784431137725\n",
      "fn: 15.8083832335329*s_2 + 21.9831833339309*(1.0 - 0.0766283524904215*s_2)**2 + 38.0822187959411*(1.0 - 0.0336134453781513*s_2)**2 + 49.2265767865467*(1.0 - 0.0229007633587786*s_2)**2 + 0.129083151063143*(-s_2 - 0.866666666666667)**2 + 4.64699343827315*(-0.0833333333333334*s_2 - 1.0)**2 - 92.2994011976048\n",
      "----------------------------\n",
      "ITERATION 1\n",
      "17.8083832335329*x_1 + 21.9831833339309*(1.0 - 0.0766283524904215*x_1)**2 + 38.0822187959411*(1.0 - 0.0336134453781513*x_1)**2 + 49.2265767865467*(1.0 - 0.0229007633587786*x_1)**2 + 0.129083151063143*(-x_1 - 0.866666666666667)**2 + 4.64699343827315*(-0.0833333333333334*x_1 - 1.0)**2 + 6*(x_1 - 10)**2 - 108.299401197605\n",
      "der: 12.7185628742515*x_1 - 109.377245508982\n",
      "x_value: 8.59981167608286\n",
      "fn: 135.424670433145\n",
      "----------------------------\n",
      "the optimal cost: 135.424670433145\n"
     ]
    }
   ],
   "source": [
    "def evaluate(mv1):\n",
    "    stos = [None, None, None, None, None, None, 0]\n",
    "    values = [10, None, None, None, None, None, None]\n",
    "\n",
    "    for i in  range(6,0,-1):\n",
    "        print(f'ITERATION {i}')\n",
    "        s = symbols(f\"s_{i}\")\n",
    "        x = symbols(f\"x_{i}\")\n",
    "        c_above = cost_above.copy().subs(\n",
    "                [(xi, x), (mi1, mv1[i-1]), (ri, request[i-1])])\n",
    "        c_change = cost_change.copy().subs(\n",
    "                [(xi, x), (mi2, mv2[i-1]), (si,  s), (pi, pv[i-1])])\n",
    "        if i != 6:\n",
    "            stos[i] = stos[i].subs(symbols(f\"s_{i+1}\"), x)\n",
    "\n",
    "        if i == 1:\n",
    "            c_change = c_change.copy().subs(s, 10)\n",
    "\n",
    "        f_current = c_above + c_change + stos[i]\n",
    "        stos[i-1] = f_current.copy()\n",
    "        print(f_current)\n",
    "        der = diff(f_current, x)\n",
    "        print(f\"der: {der}\")\n",
    "        x_value = (solve(der, x)[0], 10)[i == len(bounds)]\n",
    "\n",
    "        if x_value != bounds[i-1][1]:\n",
    "                lower, upper = bounds[i - 2]\n",
    "                if x_value.subs(s, lower) < bounds[i-1][0] or x_value.subs(s, upper) > bounds[i-1][1]:\n",
    "                    print(\"bounds error\")\n",
    "\n",
    "        print(f\"x_value: {x_value}\")\n",
    "        fn = f_current.evalf(subs={x: x_value})\n",
    "        print(f\"fn: {fn}\")\n",
    "        stos[i-1] = fn\n",
    "        values[i-1] = x_value\n",
    "        print(\"----------------------------\")\n",
    "    return fn\n",
    "\n",
    "    \n",
    "fn = evaluate(mv1)\n",
    "\n",
    "print(f\"the optimal cost: {fn}\")\n",
    "    \n",
    "    "
   ]
  },
  {
   "cell_type": "code",
   "execution_count": 98,
   "metadata": {},
   "outputs": [],
   "source": [
    "vv = []\n",
    "vv.append(values[0])\n",
    "\n",
    "vv.append(values[1].subs(symbols(f's_{2}'), values[0]))\n",
    "vv.append(values[2].subs(symbols(f's_{3}'), vv[1]))\n",
    "vv.append(values[3].subs(symbols(f's_{4}'), vv[2]))\n",
    "vv.append(values[4].subs(symbols(f's_{5}'), vv[3]))\n",
    "vv.append(values[5])"
   ]
  },
  {
   "cell_type": "code",
   "execution_count": 99,
   "metadata": {},
   "outputs": [
    {
     "name": "stdout",
     "output_type": "stream",
     "text": [
      "[8.59981167608286, 6.74952919020715, 3.34839924670433, 4.94726930320151, 7.48022598870056, 10]\n"
     ]
    }
   ],
   "source": [
    "print(vv)"
   ]
  },
  {
   "cell_type": "code",
   "execution_count": 100,
   "metadata": {},
   "outputs": [
    {
     "data": {
      "image/png": "[encoded data removed]",
      "text/latex": [
       "$\\displaystyle \\left[ \\right]$"
      ],
      "text/plain": [
       "[]"
      ]
     },
     "execution_count": 100,
     "metadata": {},
     "output_type": "execute_result"
    },
    {
     "data": {
      "image/png": "[encoded data removed]",
      "text/plain": [
       "<Figure size 640x480 with 1 Axes>"
      ]
     },
     "metadata": {},
     "output_type": "display_data"
    }
   ],
   "source": [
    "plt.title(\"Optimal operating levels for each month\")\n",
    "plt.ylabel('Operating level')\n",
    "plt.xlabel('Stage')\n",
    "\n",
    "plt.plot(vv, color='blue')\n",
    "upper_bound = [10] * 6\n",
    "plt.plot(upper_bound, color='black')\n",
    "plt.plot(request, color='red')\n",
    "\n",
    "plt.yticks(ticks=range(11), labels=range(11))\n",
    "plt.xticks(ticks=range(len(months)), labels=months)\n",
    "plt.legend([\"Optimal operating level\", \"Upper bound\", \"Lower bound\"])\n",
    "plt.plot()"
   ]
  },
  {
   "cell_type": "code",
   "execution_count": 101,
   "metadata": {},
   "outputs": [
    {
     "name": "stdout",
     "output_type": "stream",
     "text": [
      "ITERATION 6\n",
      "6*x_6 + 5*(-s_6 + x_6)**2 - 60\n",
      "der: -10*s_6 + 10*x_6 + 6\n",
      "x_value: 10\n",
      "fn: 500.0*(1 - 0.1*s_6)**2\n",
      "----------------------------\n",
      "ITERATION 5\n",
      "10*x_5 + 500.0*(1 - 0.1*x_5)**2 + 3*(-s_5 + x_5)**2 - 70\n",
      "der: -6*s_5 + 16.0*x_5 - 90.0\n",
      "x_value: 0.375*s_5 + 5.625\n",
      "fn: 3.75*s_5 + 94.921875*(1.0 - 0.111111111111111*s_5)**2 + 95.703125*(1.0 - 0.0857142857142857*s_5)**2 - 13.75\n",
      "----------------------------\n",
      "ITERATION 4\n",
      "15.75*x_4 + 94.921875*(1.0 - 0.111111111111111*x_4)**2 + 95.703125*(1.0 - 0.0857142857142857*x_4)**2 + (-s_4 + x_4)**2 - 61.75\n",
      "der: -2*s_4 + 5.75*x_4 - 21.75\n",
      "x_value: 0.347826086956522*s_4 + 3.78260869565217\n",
      "fn: 5.47826086956522*s_4 + 14.3081285444234*(1.0 - 0.172413793103448*s_4)**2 + 31.8998109640832*(1.0 - 0.0666666666666667*s_4)**2 + 43.7051039697543*(1.0 - 0.0441176470588235*s_4)**2 - 2.17391304347827\n",
      "----------------------------\n",
      "ITERATION 3\n",
      "10.4782608695652*x_3 + 14.3081285444234*(1.0 - 0.172413793103448*x_3)**2 + 31.8998109640832*(1.0 - 0.0666666666666667*x_3)**2 + 43.7051039697543*(1.0 - 0.0441176470588235*x_3)**2 + (-s_3 + x_3)**2 - 12.1739130434783\n",
      "der: -2*s_3 + 3.30434782608696*x_3 - 2.56521739130435\n",
      "x_value: 0.605263157894737*s_3 + 0.776315789473684\n",
      "fn: 6.34210526315789*s_3 + 0.60266620498615*(1.0 - 0.508474576271186*s_3)**2 + 10.7342451523546*(1.0 - 0.120481927710843*s_3)**2 + 28.6833448753463*(1.0 - 0.0425531914893617*s_3)**2 + 40.7626385041551*(1.0 - 0.0276497695852535*s_3)**2 - 4.03947368421053\n",
      "----------------------------\n",
      "ITERATION 2\n",
      "14.3421052631579*x_2 + 0.60266620498615*(1.0 - 0.508474576271186*x_2)**2 + 10.7342451523546*(1.0 - 0.120481927710843*x_2)**2 + 28.6833448753463*(1.0 - 0.0425531914893617*x_2)**2 + 40.7626385041551*(1.0 - 0.0276497695852535*x_2)**2 + 4*(-s_2 + x_2)**2 - 44.0394736842105\n",
      "der: -8*s_2 + 8.78947368421053*x_2 + 6.44736842105263\n",
      "x_value: 0.910179640718563*s_2 - 0.733532934131736\n",
      "fn: 13.0538922155689*s_2 + 1.13607515507906*(1.0 - 0.337078651685393*s_2)**2 + 12.7154164724443*(1.0 - 0.100755667506297*s_2)**2 + 30.5019452113737*(1.0 - 0.0375586854460094*s_2)**2 + 42.4329036537703*(1.0 - 0.0246659815005139*s_2)**2 + 2.15228226182366*(-0.122448979591837*s_2 - 1.0)**2 - 54.559880239521\n",
      "----------------------------\n",
      "ITERATION 1\n",
      "15.0538922155689*x_1 + 1.13607515507906*(1.0 - 0.337078651685393*x_1)**2 + 12.7154164724443*(1.0 - 0.100755667506297*x_1)**2 + 30.5019452113737*(1.0 - 0.0375586854460094*x_1)**2 + 42.4329036537703*(1.0 - 0.0246659815005139*x_1)**2 + 2.15228226182366*(-0.122448979591837*x_1 - 1.0)**2 + 6*(x_1 - 10)**2 - 70.559880239521\n",
      "der: 12.7185628742515*x_1 - 112.131736526946\n",
      "x_value: 8.81638418079095\n",
      "fn: 124.080508474576\n",
      "----------------------------\n",
      "the optimal cost: 124.080508474576\n"
     ]
    }
   ],
   "source": [
    "m_changed = [2, 8, 5, 12, 10, 6]\n",
    "fn = evaluate(m_changed)\n",
    "print(f\"the optimal cost: {fn}\")"
   ]
  }
 ],
 "metadata": {
  "kernelspec": {
   "display_name": "Python 3",
   "language": "python",
   "name": "python3"
  },
  "language_info": {
   "codemirror_mode": {
    "name": "ipython",
    "version": 3
   },
   "file_extension": ".py",
   "mimetype": "text/x-python",
   "name": "python",
   "nbconvert_exporter": "python",
   "pygments_lexer": "ipython3",
   "version": "3.11.7"
  }
 },
 "nbformat": 4,
 "nbformat_minor": 4
}
