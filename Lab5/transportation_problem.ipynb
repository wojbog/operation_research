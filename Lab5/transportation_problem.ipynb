{
 "cells": [
  {
   "cell_type": "code",
   "execution_count": 1,
   "metadata": {},
   "outputs": [],
   "source": [
    "from algorithm_trans  import algorithm\n",
    "from data import genereate_random_matrix, generate_random_limits\n",
    "from pulp_test import test_with_pulp\n",
    "from time import time"
   ]
  },
  {
   "cell_type": "code",
   "execution_count": 6,
   "metadata": {},
   "outputs": [
    {
     "name": "stdout",
     "output_type": "stream",
     "text": [
      "optimum_pulp == optimum: True\n",
      "optimum_pulp == optimum: True\n",
      "optimum_pulp == optimum: True\n",
      "optimum_pulp == optimum: True\n",
      "optimum_pulp == optimum: True\n",
      "optimum_pulp == optimum: True\n",
      "optimum_pulp == optimum: True\n",
      "optimum_pulp == optimum: True\n",
      "optimum_pulp == optimum: True\n",
      "optimum_pulp == optimum: True\n",
      "Average time: 0.00044009685516357424 for size 5\n",
      "optimum_pulp == optimum: True\n",
      "optimum_pulp == optimum: True\n",
      "optimum_pulp == optimum: True\n",
      "optimum_pulp == optimum: True\n",
      "optimum_pulp == optimum: True\n",
      "optimum_pulp == optimum: True\n",
      "optimum_pulp == optimum: True\n",
      "optimum_pulp == optimum: True\n",
      "optimum_pulp == optimum: True\n",
      "optimum_pulp == optimum: True\n",
      "Average time: 0.0024625062942504883 for size 10\n",
      "optimum_pulp == optimum: True\n",
      "optimum_pulp == optimum: True\n",
      "optimum_pulp == optimum: True\n",
      "optimum_pulp == optimum: True\n",
      "optimum_pulp == optimum: True\n",
      "optimum_pulp == optimum: True\n",
      "optimum_pulp == optimum: True\n",
      "optimum_pulp == optimum: True\n",
      "optimum_pulp == optimum: True\n",
      "optimum_pulp == optimum: True\n",
      "Average time: 0.007527947425842285 for size 15\n"
     ]
    }
   ],
   "source": [
    "problem_size = [5, 10, 15]\n",
    "\n",
    "for size in problem_size:\n",
    "    average_time = 0\n",
    "    for i in range(10):\n",
    "        matrrix = genereate_random_matrix(size)\n",
    "        # print(matrrix)\n",
    "        limits_s, limits_d = generate_random_limits(size)\n",
    "        # print(f\"Source limits: {limits_s}, Destination limits: {limits_d}\")\n",
    "        # print(f\"Size: {size}\")\n",
    "        start = time()\n",
    "        optimum, iterations, average_chain_size = algorithm(matrrix, limits_s, limits_d)\n",
    "        end = time()\n",
    "        average_chain_size += average_chain_size\n",
    "        # print(f\"Size: {size}, Optimum: {optimum}, Iterations: {iterations}, Average chain size: {average_chain_size}\")\n",
    "        optimum_pulp = test_with_pulp(limits_s, limits_d, matrrix)\n",
    "        # print(f\"Optimum pulp: {optimum_pulp}\")\n",
    "        print(f\"optimum_pulp == optimum: {optimum_pulp == optimum}\")\n",
    "    \n",
    "        average_time += (end - start)\n",
    "    print(f\"Average time: {average_time/10} for size {size}\")\n",
    "\n",
    "\n"
   ]
  }
 ],
 "metadata": {
  "kernelspec": {
   "display_name": "base",
   "language": "python",
   "name": "python3"
  },
  "language_info": {
   "codemirror_mode": {
    "name": "ipython",
    "version": 3
   },
   "file_extension": ".py",
   "mimetype": "text/x-python",
   "name": "python",
   "nbconvert_exporter": "python",
   "pygments_lexer": "ipython3",
   "version": "3.11.7"
  }
 },
 "nbformat": 4,
 "nbformat_minor": 2
}
