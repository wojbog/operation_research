{
 "cells": [
  {
   "cell_type": "code",
   "execution_count": 12,
   "metadata": {},
   "outputs": [],
   "source": [
    "from algorithm_trans  import algorithm\n",
    "from data import genereate_random_matrix, generate_random_limits\n",
    "from pulp_test import test_with_pulp\n",
    "from time import time"
   ]
  },
  {
   "cell_type": "code",
   "execution_count": 13,
   "metadata": {},
   "outputs": [
    {
     "name": "stdout",
     "output_type": "stream",
     "text": [
      "Average time: 0.0005100011825561523 for size 5 iteratrions 5.3 Average chain size: 9.623809523809523\n",
      "Average time: 0.0038299798965454102 for size 10 iteratrions 18.8 Average chain size: 13.752936507936507\n",
      "Average time: 0.006672906875610352 for size 15 iteratrions 36.3 Average chain size: 17.566465259891665\n"
     ]
    }
   ],
   "source": [
    "problem_size = [5, 10, 15]\n",
    "\n",
    "for size in problem_size:\n",
    "    average_time = 0\n",
    "    average_chain_size_sum = 0\n",
    "    iterations_sum = 0\n",
    "    for i in range(10):\n",
    "        matrrix = genereate_random_matrix(size)\n",
    "        # print(matrrix)\n",
    "        limits_s, limits_d = generate_random_limits(size)\n",
    "        # print(f\"Source limits: {limits_s}, Destination limits: {limits_d}\")\n",
    "        # print(f\"Size: {size}\")\n",
    "        start = time()\n",
    "        optimum, iterations, average_chain_size = algorithm(matrrix, limits_s, limits_d)\n",
    "        end = time()\n",
    "        average_chain_size += average_chain_size\n",
    "        # print(f\"Size: {size}, Optimum: {optimum}, Iterations: {iterations}, Average chain size: {average_chain_size}\")\n",
    "        average_chain_size_sum+=average_chain_size\n",
    "        iterations_sum+=iterations\n",
    "        optimum_pulp = test_with_pulp(limits_s, limits_d, matrrix)\n",
    "        # print(f\"Optimum pulp: {optimum_pulp}\")\n",
    "        # print(f\"optimum_pulp == optimum: {optimum_pulp == optimum}\")\n",
    "    \n",
    "        average_time += (end - start)\n",
    "    print(f\"Average time: {average_time/10} for size {size} iteratrions {iterations_sum/10} Average chain size: {average_chain_size_sum/10}\")\n",
    "\n",
    "\n"
   ]
  }
 ],
 "metadata": {
  "kernelspec": {
   "display_name": "base",
   "language": "python",
   "name": "python3"
  },
  "language_info": {
   "codemirror_mode": {
    "name": "ipython",
    "version": 3
   },
   "file_extension": ".py",
   "mimetype": "text/x-python",
   "name": "python",
   "nbconvert_exporter": "python",
   "pygments_lexer": "ipython3",
   "version": "3.11.7"
  }
 },
 "nbformat": 4,
 "nbformat_minor": 2
}
