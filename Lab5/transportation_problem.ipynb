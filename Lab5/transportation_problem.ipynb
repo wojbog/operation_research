{
 "cells": [
  {
   "cell_type": "code",
   "execution_count": 2,
   "metadata": {},
   "outputs": [],
   "source": [
    "from algorithm_trans  import algorithm\n",
    "from data import genereate_random_matrix, generate_random_limits\n",
    "from pulp_test import test_with_pulp"
   ]
  },
  {
   "cell_type": "code",
   "execution_count": 55,
   "metadata": {},
   "outputs": [
    {
     "name": "stdout",
     "output_type": "stream",
     "text": [
      "[[8, 5, 2, 10, 4, 1], [1, 9, 7, 0, 7, 2], [0, 4, 1, 2, 6, 8], [7, 3, 6, 9, 8, 5], [0, 8, 10, 8, 3, 8], [2, 3, 8, 0, 4, 5]]\n",
      "Source limits: [52, 15, 2, 6, 3, 23], Destination limits: [2, 12, 23, 53, 2, 9]\n",
      "Size: 6\n",
      "Size: 6, Optimum: 261, Iterations: 9, Average chain size: 5.777777777777778\n",
      "Pulp optimal value:  243.0\n",
      "Optimum pulp: 243.0\n"
     ]
    }
   ],
   "source": [
    "problem_size = [6]\n",
    "\n",
    "for size in problem_size:\n",
    "    matrrix = genereate_random_matrix(size)\n",
    "    print(matrrix)\n",
    "    limits_s, limits_d = generate_random_limits(size)\n",
    "    print(f\"Source limits: {limits_s}, Destination limits: {limits_d}\")\n",
    "    print(f\"Size: {size}\")\n",
    "    optimum, iterations, average_chain_size = algorithm(matrrix, limits_s, limits_d)\n",
    "    print(f\"Size: {size}, Optimum: {optimum}, Iterations: {iterations}, Average chain size: {average_chain_size}\")\n",
    "    optimum_pulp = test_with_pulp(limits_s, limits_d, matrrix)\n",
    "    print(f\"Optimum pulp: {optimum_pulp}\")\n",
    "\n"
   ]
  }
 ],
 "metadata": {
  "kernelspec": {
   "display_name": "base",
   "language": "python",
   "name": "python3"
  },
  "language_info": {
   "codemirror_mode": {
    "name": "ipython",
    "version": 3
   },
   "file_extension": ".py",
   "mimetype": "text/x-python",
   "name": "python",
   "nbconvert_exporter": "python",
   "pygments_lexer": "ipython3",
   "version": "3.8.16"
  }
 },
 "nbformat": 4,
 "nbformat_minor": 2
}
