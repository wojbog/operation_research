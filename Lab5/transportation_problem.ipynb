{
 "cells": [
  {
   "cell_type": "code",
   "execution_count": 1,
   "metadata": {},
   "outputs": [],
   "source": [
    "from algorithm_trans  import algorithm\n",
    "from data import genereate_random_matrix, generate_random_limits\n",
    "from pulp_test import test_with_pulp"
   ]
  },
  {
   "cell_type": "code",
   "execution_count": 6,
   "metadata": {},
   "outputs": [
    {
     "name": "stdout",
     "output_type": "stream",
     "text": [
      "Size: 5, Optimum: 269, Iterations: 5, Average chain size: 9.6\n",
      "Pulp optimal value:  231.0\n",
      "Optimum pulp: 231.0\n",
      "Size: 5, Optimum: 525, Iterations: 6, Average chain size: 11.333333333333334\n",
      "Pulp optimal value:  418.0\n",
      "Optimum pulp: 418.0\n",
      "Size: 5, Optimum: 708, Iterations: 12, Average chain size: 13.666666666666666\n",
      "Pulp optimal value:  441.0\n",
      "Optimum pulp: 441.0\n",
      "Size: 5, Optimum: 531, Iterations: 4, Average chain size: 10.0\n",
      "Pulp optimal value:  525.0\n",
      "Optimum pulp: 525.0\n",
      "Size: 5, Optimum: 302, Iterations: 9, Average chain size: 16.444444444444443\n",
      "Pulp optimal value:  110.0\n",
      "Optimum pulp: 110.0\n",
      "Size: 5, Optimum: 575, Iterations: 9, Average chain size: 11.11111111111111\n",
      "Pulp optimal value:  509.0\n",
      "Optimum pulp: 509.0\n",
      "Size: 5, Optimum: 323, Iterations: 9, Average chain size: 13.777777777777779\n",
      "Pulp optimal value:  233.0\n",
      "Optimum pulp: 233.0\n",
      "Size: 5, Optimum: 542, Iterations: 11, Average chain size: 12.727272727272727\n",
      "Pulp optimal value:  497.0\n",
      "Optimum pulp: 497.0\n",
      "Size: 5, Optimum: 324, Iterations: 5, Average chain size: 12.0\n",
      "Pulp optimal value:  288.0\n",
      "Optimum pulp: 288.0\n",
      "Size: 5, Optimum: 195, Iterations: 12, Average chain size: 15.0\n",
      "Pulp optimal value:  147.0\n",
      "Optimum pulp: 147.0\n",
      "Size: 10, Optimum: 506, Iterations: 43, Average chain size: 21.86046511627907\n",
      "Pulp optimal value:  311.0\n",
      "Optimum pulp: 311.0\n",
      "Size: 10, Optimum: 435, Iterations: 40, Average chain size: 22.3\n",
      "Pulp optimal value:  293.0\n",
      "Optimum pulp: 293.0\n",
      "Size: 10, Optimum: 466, Iterations: 50, Average chain size: 25.2\n",
      "Pulp optimal value:  251.0\n",
      "Optimum pulp: 251.0\n",
      "Size: 10, Optimum: 357, Iterations: 44, Average chain size: 26.818181818181817\n",
      "Pulp optimal value:  134.0\n",
      "Optimum pulp: 134.0\n",
      "Size: 10, Optimum: 364, Iterations: 42, Average chain size: 22.857142857142858\n",
      "Pulp optimal value:  185.0\n",
      "Optimum pulp: 185.0\n",
      "Size: 10, Optimum: 339, Iterations: 25, Average chain size: 24.16\n",
      "Pulp optimal value:  152.0\n",
      "Optimum pulp: 152.0\n",
      "Size: 10, Optimum: 495, Iterations: 58, Average chain size: 28.344827586206897\n",
      "Pulp optimal value:  299.0\n",
      "Optimum pulp: 299.0\n",
      "Size: 10, Optimum: 501, Iterations: 46, Average chain size: 26.08695652173913\n",
      "Pulp optimal value:  102.0\n",
      "Optimum pulp: 102.0\n",
      "Size: 10, Optimum: 584, Iterations: 57, Average chain size: 25.19298245614035\n",
      "Pulp optimal value:  318.0\n",
      "Optimum pulp: 318.0\n",
      "Size: 10, Optimum: 503, Iterations: 39, Average chain size: 22.666666666666668\n",
      "Pulp optimal value:  164.0\n",
      "Optimum pulp: 164.0\n",
      "Size: 15, Optimum: 588, Iterations: 149, Average chain size: 41.31543624161074\n",
      "Pulp optimal value:  140.0\n",
      "Optimum pulp: 140.0\n",
      "Size: 15, Optimum: 418, Iterations: 148, Average chain size: 34.972972972972975\n",
      "Pulp optimal value:  102.0\n",
      "Optimum pulp: 102.0\n"
     ]
    },
    {
     "ename": "KeyboardInterrupt",
     "evalue": "",
     "output_type": "error",
     "traceback": [
      "\u001b[1;31m---------------------------------------------------------------------------\u001b[0m",
      "\u001b[1;31mKeyboardInterrupt\u001b[0m                         Traceback (most recent call last)",
      "Cell \u001b[1;32mIn[6], line 11\u001b[0m\n\u001b[0;32m      8\u001b[0m limits_s, limits_d \u001b[38;5;241m=\u001b[39m generate_random_limits(size)\n\u001b[0;32m      9\u001b[0m \u001b[38;5;66;03m# print(f\"Source limits: {limits_s}, Destination limits: {limits_d}\")\u001b[39;00m\n\u001b[0;32m     10\u001b[0m \u001b[38;5;66;03m# print(f\"Size: {size}\")\u001b[39;00m\n\u001b[1;32m---> 11\u001b[0m optimum, iterations, average_chain_size \u001b[38;5;241m=\u001b[39m \u001b[43malgorithm\u001b[49m\u001b[43m(\u001b[49m\u001b[43mmatrrix\u001b[49m\u001b[43m,\u001b[49m\u001b[43m \u001b[49m\u001b[43mlimits_s\u001b[49m\u001b[43m,\u001b[49m\u001b[43m \u001b[49m\u001b[43mlimits_d\u001b[49m\u001b[43m)\u001b[49m\n\u001b[0;32m     12\u001b[0m average_chain_size \u001b[38;5;241m+\u001b[39m\u001b[38;5;241m=\u001b[39m average_chain_size\n\u001b[0;32m     13\u001b[0m \u001b[38;5;28mprint\u001b[39m(\u001b[38;5;124mf\u001b[39m\u001b[38;5;124m\"\u001b[39m\u001b[38;5;124mSize: \u001b[39m\u001b[38;5;132;01m{\u001b[39;00msize\u001b[38;5;132;01m}\u001b[39;00m\u001b[38;5;124m, Optimum: \u001b[39m\u001b[38;5;132;01m{\u001b[39;00moptimum\u001b[38;5;132;01m}\u001b[39;00m\u001b[38;5;124m, Iterations: \u001b[39m\u001b[38;5;132;01m{\u001b[39;00miterations\u001b[38;5;132;01m}\u001b[39;00m\u001b[38;5;124m, Average chain size: \u001b[39m\u001b[38;5;132;01m{\u001b[39;00maverage_chain_size\u001b[38;5;132;01m}\u001b[39;00m\u001b[38;5;124m\"\u001b[39m)\n",
      "File \u001b[1;32mc:\\Users\\Wojtek\\Documents\\uczelnia\\operation reasearch\\operation_research\\Lab5\\algorithm_trans.py:245\u001b[0m, in \u001b[0;36malgorithm\u001b[1;34m(cost_matrix, s_limits, d_limits)\u001b[0m\n\u001b[0;32m    243\u001b[0m \u001b[38;5;28;01mwhile\u001b[39;00m smallest\u001b[38;5;241m<\u001b[39m\u001b[38;5;241m0\u001b[39m:\n\u001b[0;32m    244\u001b[0m     licznik\u001b[38;5;241m+\u001b[39m\u001b[38;5;241m=\u001b[39m\u001b[38;5;241m1\u001b[39m\n\u001b[1;32m--> 245\u001b[0m     _, stos \u001b[38;5;241m=\u001b[39m \u001b[43mget_path\u001b[49m\u001b[43m(\u001b[49m\u001b[43mbase\u001b[49m\u001b[43m,\u001b[49m\u001b[43m \u001b[49m\u001b[43mindex\u001b[49m\u001b[43m,\u001b[49m\u001b[43m \u001b[49m\u001b[43mindex\u001b[49m\u001b[43m,\u001b[49m\u001b[43m \u001b[49m\u001b[38;5;28;43;01mFalse\u001b[39;49;00m\u001b[43m,\u001b[49m\u001b[43m \u001b[49m\u001b[43m[\u001b[49m\u001b[43m]\u001b[49m\u001b[43m,\u001b[49m\u001b[43m \u001b[49m\u001b[38;5;28;43;01mFalse\u001b[39;49;00m\u001b[43m)\u001b[49m\n\u001b[0;32m    246\u001b[0m     average_chain\u001b[38;5;241m+\u001b[39m\u001b[38;5;241m=\u001b[39m\u001b[38;5;28mlen\u001b[39m(stos)\n\u001b[0;32m    247\u001b[0m     mini_substruction\u001b[38;5;241m=\u001b[39m\u001b[38;5;28mmin\u001b[39m([m_matrix[stos[i][\u001b[38;5;241m0\u001b[39m]][stos[i][\u001b[38;5;241m1\u001b[39m]] \u001b[38;5;28;01mfor\u001b[39;00m i \u001b[38;5;129;01min\u001b[39;00m \u001b[38;5;28mrange\u001b[39m(\u001b[38;5;241m1\u001b[39m,\u001b[38;5;28mlen\u001b[39m(stos),\u001b[38;5;241m2\u001b[39m)])\n",
      "File \u001b[1;32mc:\\Users\\Wojtek\\Documents\\uczelnia\\operation reasearch\\operation_research\\Lab5\\algorithm_trans.py:192\u001b[0m, in \u001b[0;36mget_path\u001b[1;34m(base, start_position, index, row, stos, check)\u001b[0m\n\u001b[0;32m    190\u001b[0m     check, stos \u001b[38;5;241m=\u001b[39m get_path(base, start_position, (i,j), \u001b[38;5;28;01mFalse\u001b[39;00m, stos, check)\n\u001b[0;32m    191\u001b[0m \u001b[38;5;28;01melse\u001b[39;00m:\n\u001b[1;32m--> 192\u001b[0m     check, stos \u001b[38;5;241m=\u001b[39m \u001b[43mget_path\u001b[49m\u001b[43m(\u001b[49m\u001b[43mbase\u001b[49m\u001b[43m,\u001b[49m\u001b[43m \u001b[49m\u001b[43mstart_position\u001b[49m\u001b[43m,\u001b[49m\u001b[43m \u001b[49m\u001b[43m(\u001b[49m\u001b[43mi\u001b[49m\u001b[43m,\u001b[49m\u001b[43mj\u001b[49m\u001b[43m)\u001b[49m\u001b[43m,\u001b[49m\u001b[43m \u001b[49m\u001b[38;5;28;43;01mTrue\u001b[39;49;00m\u001b[43m,\u001b[49m\u001b[43m \u001b[49m\u001b[43mstos\u001b[49m\u001b[43m,\u001b[49m\u001b[43m \u001b[49m\u001b[43mcheck\u001b[49m\u001b[43m)\u001b[49m\n\u001b[0;32m    194\u001b[0m \u001b[38;5;28;01mif\u001b[39;00m check:\n\u001b[0;32m    195\u001b[0m     \u001b[38;5;28;01mbreak\u001b[39;00m\n",
      "File \u001b[1;32mc:\\Users\\Wojtek\\Documents\\uczelnia\\operation reasearch\\operation_research\\Lab5\\algorithm_trans.py:190\u001b[0m, in \u001b[0;36mget_path\u001b[1;34m(base, start_position, index, row, stos, check)\u001b[0m\n\u001b[0;32m    188\u001b[0m \u001b[38;5;28;01mfor\u001b[39;00m i,j \u001b[38;5;129;01min\u001b[39;00m neighbours:\n\u001b[0;32m    189\u001b[0m     \u001b[38;5;28;01mif\u001b[39;00m row:\n\u001b[1;32m--> 190\u001b[0m         check, stos \u001b[38;5;241m=\u001b[39m \u001b[43mget_path\u001b[49m\u001b[43m(\u001b[49m\u001b[43mbase\u001b[49m\u001b[43m,\u001b[49m\u001b[43m \u001b[49m\u001b[43mstart_position\u001b[49m\u001b[43m,\u001b[49m\u001b[43m \u001b[49m\u001b[43m(\u001b[49m\u001b[43mi\u001b[49m\u001b[43m,\u001b[49m\u001b[43mj\u001b[49m\u001b[43m)\u001b[49m\u001b[43m,\u001b[49m\u001b[43m \u001b[49m\u001b[38;5;28;43;01mFalse\u001b[39;49;00m\u001b[43m,\u001b[49m\u001b[43m \u001b[49m\u001b[43mstos\u001b[49m\u001b[43m,\u001b[49m\u001b[43m \u001b[49m\u001b[43mcheck\u001b[49m\u001b[43m)\u001b[49m\n\u001b[0;32m    191\u001b[0m     \u001b[38;5;28;01melse\u001b[39;00m:\n\u001b[0;32m    192\u001b[0m         check, stos \u001b[38;5;241m=\u001b[39m get_path(base, start_position, (i,j), \u001b[38;5;28;01mTrue\u001b[39;00m, stos, check)\n",
      "File \u001b[1;32mc:\\Users\\Wojtek\\Documents\\uczelnia\\operation reasearch\\operation_research\\Lab5\\algorithm_trans.py:192\u001b[0m, in \u001b[0;36mget_path\u001b[1;34m(base, start_position, index, row, stos, check)\u001b[0m\n\u001b[0;32m    190\u001b[0m     check, stos \u001b[38;5;241m=\u001b[39m get_path(base, start_position, (i,j), \u001b[38;5;28;01mFalse\u001b[39;00m, stos, check)\n\u001b[0;32m    191\u001b[0m \u001b[38;5;28;01melse\u001b[39;00m:\n\u001b[1;32m--> 192\u001b[0m     check, stos \u001b[38;5;241m=\u001b[39m \u001b[43mget_path\u001b[49m\u001b[43m(\u001b[49m\u001b[43mbase\u001b[49m\u001b[43m,\u001b[49m\u001b[43m \u001b[49m\u001b[43mstart_position\u001b[49m\u001b[43m,\u001b[49m\u001b[43m \u001b[49m\u001b[43m(\u001b[49m\u001b[43mi\u001b[49m\u001b[43m,\u001b[49m\u001b[43mj\u001b[49m\u001b[43m)\u001b[49m\u001b[43m,\u001b[49m\u001b[43m \u001b[49m\u001b[38;5;28;43;01mTrue\u001b[39;49;00m\u001b[43m,\u001b[49m\u001b[43m \u001b[49m\u001b[43mstos\u001b[49m\u001b[43m,\u001b[49m\u001b[43m \u001b[49m\u001b[43mcheck\u001b[49m\u001b[43m)\u001b[49m\n\u001b[0;32m    194\u001b[0m \u001b[38;5;28;01mif\u001b[39;00m check:\n\u001b[0;32m    195\u001b[0m     \u001b[38;5;28;01mbreak\u001b[39;00m\n",
      "File \u001b[1;32mc:\\Users\\Wojtek\\Documents\\uczelnia\\operation reasearch\\operation_research\\Lab5\\algorithm_trans.py:190\u001b[0m, in \u001b[0;36mget_path\u001b[1;34m(base, start_position, index, row, stos, check)\u001b[0m\n\u001b[0;32m    188\u001b[0m \u001b[38;5;28;01mfor\u001b[39;00m i,j \u001b[38;5;129;01min\u001b[39;00m neighbours:\n\u001b[0;32m    189\u001b[0m     \u001b[38;5;28;01mif\u001b[39;00m row:\n\u001b[1;32m--> 190\u001b[0m         check, stos \u001b[38;5;241m=\u001b[39m \u001b[43mget_path\u001b[49m\u001b[43m(\u001b[49m\u001b[43mbase\u001b[49m\u001b[43m,\u001b[49m\u001b[43m \u001b[49m\u001b[43mstart_position\u001b[49m\u001b[43m,\u001b[49m\u001b[43m \u001b[49m\u001b[43m(\u001b[49m\u001b[43mi\u001b[49m\u001b[43m,\u001b[49m\u001b[43mj\u001b[49m\u001b[43m)\u001b[49m\u001b[43m,\u001b[49m\u001b[43m \u001b[49m\u001b[38;5;28;43;01mFalse\u001b[39;49;00m\u001b[43m,\u001b[49m\u001b[43m \u001b[49m\u001b[43mstos\u001b[49m\u001b[43m,\u001b[49m\u001b[43m \u001b[49m\u001b[43mcheck\u001b[49m\u001b[43m)\u001b[49m\n\u001b[0;32m    191\u001b[0m     \u001b[38;5;28;01melse\u001b[39;00m:\n\u001b[0;32m    192\u001b[0m         check, stos \u001b[38;5;241m=\u001b[39m get_path(base, start_position, (i,j), \u001b[38;5;28;01mTrue\u001b[39;00m, stos, check)\n",
      "    \u001b[1;31m[... skipping similar frames: get_path at line 192 (20 times), get_path at line 190 (19 times)]\u001b[0m\n",
      "File \u001b[1;32mc:\\Users\\Wojtek\\Documents\\uczelnia\\operation reasearch\\operation_research\\Lab5\\algorithm_trans.py:190\u001b[0m, in \u001b[0;36mget_path\u001b[1;34m(base, start_position, index, row, stos, check)\u001b[0m\n\u001b[0;32m    188\u001b[0m \u001b[38;5;28;01mfor\u001b[39;00m i,j \u001b[38;5;129;01min\u001b[39;00m neighbours:\n\u001b[0;32m    189\u001b[0m     \u001b[38;5;28;01mif\u001b[39;00m row:\n\u001b[1;32m--> 190\u001b[0m         check, stos \u001b[38;5;241m=\u001b[39m \u001b[43mget_path\u001b[49m\u001b[43m(\u001b[49m\u001b[43mbase\u001b[49m\u001b[43m,\u001b[49m\u001b[43m \u001b[49m\u001b[43mstart_position\u001b[49m\u001b[43m,\u001b[49m\u001b[43m \u001b[49m\u001b[43m(\u001b[49m\u001b[43mi\u001b[49m\u001b[43m,\u001b[49m\u001b[43mj\u001b[49m\u001b[43m)\u001b[49m\u001b[43m,\u001b[49m\u001b[43m \u001b[49m\u001b[38;5;28;43;01mFalse\u001b[39;49;00m\u001b[43m,\u001b[49m\u001b[43m \u001b[49m\u001b[43mstos\u001b[49m\u001b[43m,\u001b[49m\u001b[43m \u001b[49m\u001b[43mcheck\u001b[49m\u001b[43m)\u001b[49m\n\u001b[0;32m    191\u001b[0m     \u001b[38;5;28;01melse\u001b[39;00m:\n\u001b[0;32m    192\u001b[0m         check, stos \u001b[38;5;241m=\u001b[39m get_path(base, start_position, (i,j), \u001b[38;5;28;01mTrue\u001b[39;00m, stos, check)\n",
      "File \u001b[1;32mc:\\Users\\Wojtek\\Documents\\uczelnia\\operation reasearch\\operation_research\\Lab5\\algorithm_trans.py:192\u001b[0m, in \u001b[0;36mget_path\u001b[1;34m(base, start_position, index, row, stos, check)\u001b[0m\n\u001b[0;32m    190\u001b[0m     check, stos \u001b[38;5;241m=\u001b[39m get_path(base, start_position, (i,j), \u001b[38;5;28;01mFalse\u001b[39;00m, stos, check)\n\u001b[0;32m    191\u001b[0m \u001b[38;5;28;01melse\u001b[39;00m:\n\u001b[1;32m--> 192\u001b[0m     check, stos \u001b[38;5;241m=\u001b[39m \u001b[43mget_path\u001b[49m\u001b[43m(\u001b[49m\u001b[43mbase\u001b[49m\u001b[43m,\u001b[49m\u001b[43m \u001b[49m\u001b[43mstart_position\u001b[49m\u001b[43m,\u001b[49m\u001b[43m \u001b[49m\u001b[43m(\u001b[49m\u001b[43mi\u001b[49m\u001b[43m,\u001b[49m\u001b[43mj\u001b[49m\u001b[43m)\u001b[49m\u001b[43m,\u001b[49m\u001b[43m \u001b[49m\u001b[38;5;28;43;01mTrue\u001b[39;49;00m\u001b[43m,\u001b[49m\u001b[43m \u001b[49m\u001b[43mstos\u001b[49m\u001b[43m,\u001b[49m\u001b[43m \u001b[49m\u001b[43mcheck\u001b[49m\u001b[43m)\u001b[49m\n\u001b[0;32m    194\u001b[0m \u001b[38;5;28;01mif\u001b[39;00m check:\n\u001b[0;32m    195\u001b[0m     \u001b[38;5;28;01mbreak\u001b[39;00m\n",
      "File \u001b[1;32mc:\\Users\\Wojtek\\Documents\\uczelnia\\operation reasearch\\operation_research\\Lab5\\algorithm_trans.py:176\u001b[0m, in \u001b[0;36mget_path\u001b[1;34m(base, start_position, index, row, stos, check)\u001b[0m\n\u001b[0;32m    174\u001b[0m \u001b[38;5;28;01mdef\u001b[39;00m \u001b[38;5;21mget_path\u001b[39m(base, start_position, index, row, stos, check):\n\u001b[0;32m    175\u001b[0m     \u001b[38;5;28;01mif\u001b[39;00m index \u001b[38;5;129;01min\u001b[39;00m stos:\n\u001b[1;32m--> 176\u001b[0m         \u001b[38;5;28;01mreturn\u001b[39;00m \u001b[38;5;28;01mFalse\u001b[39;00m, stos\n\u001b[0;32m    177\u001b[0m     stos\u001b[38;5;241m.\u001b[39mappend(index)\n\u001b[0;32m    179\u001b[0m     \u001b[38;5;28;01mif\u001b[39;00m index[\u001b[38;5;241m0\u001b[39m] \u001b[38;5;241m==\u001b[39m start_position[\u001b[38;5;241m0\u001b[39m] \u001b[38;5;129;01mand\u001b[39;00m index[\u001b[38;5;241m1\u001b[39m] \u001b[38;5;241m!=\u001b[39m start_position[\u001b[38;5;241m1\u001b[39m]:\n",
      "\u001b[1;31mKeyboardInterrupt\u001b[0m: "
     ]
    }
   ],
   "source": [
    "problem_size = [5, 10, 15]\n",
    "\n",
    "for size in problem_size:\n",
    "    average_chain_size = 0\n",
    "    for i in range(10):\n",
    "        matrrix = genereate_random_matrix(size)\n",
    "        # print(matrrix)\n",
    "        limits_s, limits_d = generate_random_limits(size)\n",
    "        # print(f\"Source limits: {limits_s}, Destination limits: {limits_d}\")\n",
    "        # print(f\"Size: {size}\")\n",
    "        optimum, iterations, average_chain_size = algorithm(matrrix, limits_s, limits_d)\n",
    "        average_chain_size += average_chain_size\n",
    "        print(f\"Size: {size}, Optimum: {optimum}, Iterations: {iterations}, Average chain size: {average_chain_size}\")\n",
    "        optimum_pulp = test_with_pulp(limits_s, limits_d, matrrix)\n",
    "        print(f\"Optimum pulp: {optimum_pulp}\")\n",
    "\n"
   ]
  }
 ],
 "metadata": {
  "kernelspec": {
   "display_name": "base",
   "language": "python",
   "name": "python3"
  },
  "language_info": {
   "codemirror_mode": {
    "name": "ipython",
    "version": 3
   },
   "file_extension": ".py",
   "mimetype": "text/x-python",
   "name": "python",
   "nbconvert_exporter": "python",
   "pygments_lexer": "ipython3",
   "version": "3.8.16"
  }
 },
 "nbformat": 4,
 "nbformat_minor": 2
}
