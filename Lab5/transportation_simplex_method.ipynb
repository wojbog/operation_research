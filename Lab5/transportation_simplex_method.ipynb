{
 "cells": [
  {
   "cell_type": "markdown",
   "metadata": {},
   "source": [
    "# Lab 5 - Transportation Simplex Method "
   ]
  },
  {
   "cell_type": "markdown",
   "metadata": {},
   "source": [
    "<b>Information on group members:</b><br>\n",
    "1) 156066, Julia Lorenz <br>\n"
   ]
  },
  {
   "cell_type": "code",
   "execution_count": 3,
   "metadata": {},
   "outputs": [],
   "source": [
    "import numpy as np\n",
    "from collections import Counter\n",
    "import pulp  \n",
    "import copy\n",
    "from collections import deque\n"
   ]
  },
  {
   "cell_type": "markdown",
   "metadata": {},
   "source": [
    "## Generating data"
   ]
  },
  {
   "cell_type": "code",
   "execution_count": 4,
   "metadata": {},
   "outputs": [],
   "source": [
    "# generating data\n",
    "def get_uniform_random_values(n: int, scaling_factor: int):\n",
    "\n",
    "    # generating n rnadom values by partitioning the interval [0, 1] into n subintervals\n",
    "    breakpoints = np.sort(np.random.uniform(0, 1, n-1))\n",
    "    breakpoints = np.concatenate(([0], breakpoints, [1]))\n",
    "\n",
    "    values = np.diff(breakpoints) * scaling_factor\n",
    "    values = np.round(values).astype(int)\n",
    "\n",
    "    difference = scaling_factor - values.sum()\n",
    "\n",
    "    while difference != 0:\n",
    "        # avoiding negative values\n",
    "        if difference > 0:\n",
    "            # Increase values\n",
    "            indices = np.where(values > 0)[0]\n",
    "            idx = np.random.choice(indices)\n",
    "            values[idx] += 1\n",
    "            difference -= 1\n",
    "        elif difference < 0:\n",
    "            # Decrease values: Avoid reducing to negatives\n",
    "            indices = np.where(values > 1)[0]\n",
    "            idx = np.random.choice(indices)\n",
    "            values[idx] -= 1\n",
    "            difference += 1 \n",
    "\n",
    "    return values\n",
    "\n",
    "\n",
    "def get_cost_matrix(n: int, m: int):\n",
    "\n",
    "    inf_prob = 0.2\n",
    "    zero_prob = 0.2\n",
    "\n",
    "    matrix = np.random.randint(1, 20, size=(n, m)).astype(float)\n",
    "\n",
    "    if np.random.uniform(0, 1) < inf_prob:\n",
    "        num_inf = np.random.randint(1, n + 1) \n",
    "        inf_indices = np.random.choice(n * m, num_inf, replace=False)\n",
    "        matrix.flat[inf_indices] = np.inf\n",
    "\n",
    "    \n",
    "    if np.random.uniform(0, 1) < zero_prob:\n",
    "        num_zero = np.random.randint(1, n + 1)\n",
    "        zero_indices = np.random.choice(n * m, num_zero, replace=False)\n",
    "        matrix.flat[zero_indices] = 0\n",
    "\n",
    "    return matrix\n",
    "\n",
    "\n",
    "def generate_data(problem_size_supply: int, problem_size_demand: int, total_supply_demand: int):\n",
    "\n",
    "    supply = get_uniform_random_values(problem_size_supply, total_supply_demand)\n",
    "    demand = get_uniform_random_values(problem_size_demand, total_supply_demand)\n",
    "    cost = get_cost_matrix(problem_size_supply, problem_size_demand)\n",
    "\n",
    "    return supply, demand, cost\n"
   ]
  },
  {
   "cell_type": "markdown",
   "metadata": {},
   "source": [
    "## Northwest Corner Rule - get initial solution"
   ]
  },
  {
   "cell_type": "code",
   "execution_count": 5,
   "metadata": {},
   "outputs": [],
   "source": [
    "def northwest_corner_method(supply, demand, cost):\n",
    "\n",
    "    n = len(supply)\n",
    "    m = len(demand)\n",
    "\n",
    "    allocation = np.zeros((n, m), dtype=int)\n",
    "    i, j = 0, 0\n",
    "    basic_vars_coords = []\n",
    "    Z = 0\n",
    "\n",
    "    while i < n and j < m:\n",
    "        alloc = min(supply[i], demand[j])\n",
    "        allocation[i][j] = alloc\n",
    "        supply[i] -= alloc\n",
    "        demand[j] -= alloc\n",
    "        basic_vars_coords.append((i, j))\n",
    "\n",
    "        Z += alloc * cost[i][j]\n",
    "        \n",
    "        if supply[i] == 0:\n",
    "            i += 1\n",
    "        else:\n",
    "            j += 1\n",
    "\n",
    "\n",
    "    return allocation, basic_vars_coords, Z"
   ]
  },
  {
   "cell_type": "markdown",
   "metadata": {},
   "source": [
    "## Computing u, v vectors"
   ]
  },
  {
   "cell_type": "code",
   "execution_count": 170,
   "metadata": {},
   "outputs": [],
   "source": [
    "def get_u_v_coefs(supply, demand, cost, solution, basic_vars_coords):\n",
    "\n",
    "    n = len(supply)\n",
    "    m = len(demand)\n",
    "    basic_rows = set([coord[0] for coord in basic_vars_coords])\n",
    "    basic_cols = set([coord[1] for coord in basic_vars_coords])\n",
    "\n",
    "    u, v = np.full(n, None), np.full(m, None)\n",
    "\n",
    "    # select a ui value and fix it to 0, the one having the most basic variables with coordinate i\n",
    "    i_coords = [coord[0] for coord in basic_vars_coords]\n",
    "    counter = Counter(i_coords)\n",
    "    most_common_i, _ = counter.most_common(1)[0]\n",
    "    u[most_common_i] = 0\n",
    "\n",
    "    queue = deque([(\"u\", most_common_i)])\n",
    "    u_solved = set([most_common_i])\n",
    "    v_solved = set()\n",
    "\n",
    "    while queue:\n",
    "        var, idx = queue.popleft()\n",
    "        if var == \"u\":\n",
    "            for j in basic_rows:\n",
    "                if (idx, j) in basic_vars_coords and j not in v_solved:\n",
    "                    v[j] = cost[idx][j] - u[idx]\n",
    "                    v_solved.add(j)\n",
    "                    queue.append((\"v\", j))\n",
    "        else:\n",
    "            for i in basic_cols:\n",
    "                if (i, idx) in basic_vars_coords and i not in u_solved:\n",
    "                    u[i] = cost[i][idx] - v[idx]\n",
    "                    u_solved.add(i)\n",
    "                    queue.append((\"u\", i))\n",
    "\n",
    "    with np.errstate(invalid=\"ignore\"):       \n",
    "        non_basic_mask = solution == 0\n",
    "        coefficients = cost - u[:, None] - v  \n",
    "        \n",
    "        coefficients[~non_basic_mask] = solution[~non_basic_mask]\n",
    "\n",
    "\n",
    "    return u, v, coefficients\n"
   ]
  },
  {
   "cell_type": "code",
   "execution_count": null,
   "metadata": {},
   "outputs": [],
   "source": [
    "def check_optimality(coefficients):\n",
    "    return np.all(coefficients >= 0)\n"
   ]
  },
  {
   "cell_type": "markdown",
   "metadata": {},
   "source": [
    "## Chain rule"
   ]
  },
  {
   "cell_type": "code",
   "execution_count": 8,
   "metadata": {},
   "outputs": [],
   "source": [
    "def chain_rule(coefficients, solution, basic_vars_coords, cost):\n",
    "\n",
    "    entering_var = np.unravel_index(np.argmin(coefficients), coefficients.shape)\n",
    "    entering_var = (entering_var[0], entering_var[1])\n",
    "    basic_vars_coords.append(entering_var)\n",
    "\n",
    "    # find path from entering variable back to itself\n",
    "    path = [entering_var]\n",
    "    visited = set()\n",
    "    stack = [(entering_var, True)]  \n",
    "\n",
    "    while stack:\n",
    "        current, is_recipient = stack.pop()\n",
    "        i, j = current\n",
    "\n",
    "        if len(path) > 1 and current == entering_var:\n",
    "            break\n",
    "\n",
    "        if is_recipient:  # Move along column\n",
    "            candidates = [(x, j) for x, y in basic_vars_coords if y == j and (x, y) not in visited]\n",
    "        else:  # Move along row\n",
    "            candidates = [(i, y) for x, y in basic_vars_coords if x == i and (x, y) not in visited]\n",
    "\n",
    "        found_next = False\n",
    "        for candidate in candidates:\n",
    "            stack.append((candidate, not is_recipient)) \n",
    "            visited.add(candidate)\n",
    "            path.append(candidate)\n",
    "            found_next = True\n",
    "            break\n",
    "\n",
    "        if not found_next:\n",
    "            path.pop()\n",
    "            if path:\n",
    "                previous = path[-1]\n",
    "                stack.append((previous, not is_recipient))\n",
    "\n",
    "    \n",
    "    path.pop() # remove the entering variable duplicate from the path\n",
    "    \n",
    "    # donors and recipients\n",
    "    donors = path[1::2]\n",
    "    recipients = path[0::2]\n",
    "\n",
    "    min_donor_value = min(solution[cell] for cell in donors)\n",
    "\n",
    "    leaving_var = None\n",
    "    for idx, cell in enumerate(path):\n",
    "        if idx % 2 == 0:  \n",
    "            solution[cell] += min_donor_value\n",
    "        else:  \n",
    "            solution[cell] -= min_donor_value\n",
    "            if  leaving_var is None and solution[cell] == 0:\n",
    "                leaving_var = cell\n",
    "\n",
    "    basic_vars_coords.remove(leaving_var)\n",
    "\n",
    "\n",
    "    Z = np.sum(solution[solution != 0] * cost[solution != 0])\n",
    "    \n",
    "    return solution, basic_vars_coords, Z\n"
   ]
  },
  {
   "cell_type": "markdown",
   "metadata": {},
   "source": [
    "## Solving"
   ]
  },
  {
   "cell_type": "code",
   "execution_count": 9,
   "metadata": {},
   "outputs": [],
   "source": [
    "def solve_transportation_pulp(s, d, cost):\n",
    "    n_supply = len(s)\n",
    "    n_demand = len(d)\n",
    "\n",
    "    prob = pulp.LpProblem(\"Transportation_Problem\", pulp.LpMinimize)\n",
    "    x = [[pulp.LpVariable(f\"x_{i}_{j}\", lowBound=0, cat=\"Continuous\") for j in range(n_demand)] for i in range(n_supply)]\n",
    "    prob += pulp.lpSum(cost[i, j] * x[i][j] for i in range(n_supply) for j in range(n_demand) if cost[i, j] != np.inf)\n",
    "\n",
    "    for i in range(n_supply):\n",
    "        prob += pulp.lpSum(x[i][j] for j in range(n_demand) if cost[i, j] != np.inf) <= s[i], f\"Supply_Constraint_{i}\"\n",
    "\n",
    "    for j in range(n_demand):\n",
    "        prob += pulp.lpSum(x[i][j] for i in range(n_supply) if cost[i, j] != np.inf) == d[j], f\"Demand_Constraint_{j}\"\n",
    "\n",
    "    prob.solve()\n",
    "\n",
    "    if pulp.LpStatus[prob.status] == \"Optimal\":\n",
    "        solution = np.zeros((n_supply, n_demand))\n",
    "        for i in range(n_supply):\n",
    "            for j in range(n_demand):\n",
    "                if cost[i, j] != np.inf:\n",
    "                    solution[i, j] = pulp.value(x[i][j])\n",
    "        return solution, pulp.value(prob.objective)\n",
    "    else:\n",
    "        print(\"No optimal solution found.\")\n",
    "        return None, None\n"
   ]
  },
  {
   "cell_type": "code",
   "execution_count": 1,
   "metadata": {},
   "outputs": [],
   "source": [
    "def solve_transportation_simplex(supply, demand, cost):\n",
    "    \n",
    "    s = copy.deepcopy(supply)\n",
    "    d = copy.deepcopy(demand)\n",
    "    c = copy.deepcopy(cost)\n",
    "\n",
    "    # Pulp implementation\n",
    "    pulp_solution, pulp_Z = solve_transportation_pulp(s, d, c)\n",
    "    print(\"Pulp solution:\")\n",
    "    print(pulp_solution)\n",
    "    print(\"Pulp Z:\", pulp_Z)\n",
    "    \n",
    "\n",
    "    # My implementation (transportation simplex algorithm)\n",
    "    solution, basic_vars_coords, Z = northwest_corner_method(supply, demand, cost)\n",
    "    while True:\n",
    "        u, v, coefficients = get_u_v_coefs(supply, demand, cost, solution, basic_vars_coords)\n",
    "        if check_optimality(coefficients):\n",
    "            break\n",
    "        solution, basic_vars_coords, Z = chain_rule(coefficients, solution, basic_vars_coords, cost)\n",
    "\n",
    "    print(\"My implementation solution:\")\n",
    "    print(solution)\n",
    "    print(\"My implementation Z:\", Z)\n",
    "\n",
    "    return "
   ]
  },
  {
   "cell_type": "code",
   "execution_count": null,
   "metadata": {},
   "outputs": [
    {
     "name": "stdout",
     "output_type": "stream",
     "text": [
      "Pulp solution:\n",
      "[[ 0. 30.  0.  0.]\n",
      " [10. 10.  0.  0.]\n",
      " [30.  0.  0. 50.]\n",
      " [ 0.  0. 20. 60.]]\n",
      "Pulp Z: 370.0\n",
      "My implementation solution:\n",
      "[[ 0 30  0  0]\n",
      " [20  0  0  0]\n",
      " [20 10  0 50]\n",
      " [ 0  0 20 60]]\n",
      "My implementation Z: 370.0\n"
     ]
    }
   ],
   "source": [
    "# toy example from the lab\n",
    "s = np.array([4, 7, 24, 17, 23, 26])\n",
    "d = np.array([22, 42, 11, 5, 1, 20])\n",
    "cost = np.array([[3, 9, 4, 10, 0, 4], [7, 1, 4, 2, 10, 0], [6, 6, 5, 0, 10, 3], [7, 2, 2, 6, 10, 8], [7, 10, 2, 5, 8, 10], [3, 8, 9, 4, 9, 9]])\n",
    "\n",
    "solve_transportation_simplex(s, d, cost)"
   ]
  },
  {
   "cell_type": "code",
   "execution_count": 224,
   "metadata": {},
   "outputs": [
    {
     "name": "stdout",
     "output_type": "stream",
     "text": [
      "Pulp solution:\n",
      "[[  0.   0.   0.   0.   0.   0.]\n",
      " [  0.  63.   0.   0.   0.   0.]\n",
      " [ 33.   7.   0.   0.   0.   0.]\n",
      " [  6.   0.   0.  97.  24.   0.]\n",
      " [136.   0.   0.   0.   0.   1.]\n",
      " [  0.  16.  17.   0.   0.   0.]]\n",
      "Pulp Z: 2418.0\n",
      "My implementation solution:\n",
      "[[  0   0   0   0   0   0]\n",
      " [  0  63   0   0   0   0]\n",
      " [ 33   7   0   0   0   0]\n",
      " [  6   0   0  97  24   0]\n",
      " [136   0   0   0   0   1]\n",
      " [  0  16  17   0   0   0]]\n",
      "My implementation Z: 2418.0\n"
     ]
    }
   ],
   "source": [
    "s, d, c = generate_data(6, 6, 400)\n",
    "solve_transportation_simplex(s, d, c)"
   ]
  },
  {
   "cell_type": "markdown",
   "metadata": {},
   "source": [
    "## Testing"
   ]
  },
  {
   "cell_type": "code",
   "execution_count": 61,
   "metadata": {},
   "outputs": [],
   "source": [
    "def compare_and_test(supply, demand, cost):\n",
    "    \n",
    "    s = copy.deepcopy(supply)\n",
    "    d = copy.deepcopy(demand)\n",
    "    c = copy.deepcopy(cost)\n",
    "\n",
    "    # Pulp implementation\n",
    "    pulp_solution, pulp_Z = solve_transportation_pulp(s, d, c)\n",
    "\n",
    "    # My implementation (transportation simplex algorithm)\n",
    "    iteration = 0\n",
    "    solution, basic_vars_coords, Z = northwest_corner_method(supply, demand, cost)\n",
    "    while True:\n",
    "        u, v, coefficients = get_u_v_coefs(supply, demand, cost, solution, basic_vars_coords)\n",
    "        if check_optimality(coefficients):\n",
    "            break\n",
    "        solution, basic_vars_coords, Z = chain_rule(coefficients, solution, basic_vars_coords, cost)\n",
    "        iteration += 1\n",
    "\n",
    "    is_equal_Z = pulp_Z == Z\n",
    "\n",
    "    return iteration, is_equal_Z"
   ]
  },
  {
   "cell_type": "code",
   "execution_count": 225,
   "metadata": {},
   "outputs": [
    {
     "name": "stdout",
     "output_type": "stream",
     "text": [
      "Problem size: 5, Average iterations: 5.4, Equal Zs: 1.0\n",
      "Problem size: 10, Average iterations: 18.2, Equal Zs: 1.0\n",
      "Problem size: 15, Average iterations: 37.5, Equal Zs: 1.0\n",
      "Problem size: 20, Average iterations: 56.0, Equal Zs: 1.0\n",
      "Problem size: 25, Average iterations: 85.5, Equal Zs: 1.0\n"
     ]
    }
   ],
   "source": [
    "problem_sizes = [5, 10, 15, 20, 25]\n",
    "\n",
    "for size in problem_sizes:\n",
    "    iterations = []\n",
    "    is_equal_Zs = []\n",
    "    for _ in range(10): \n",
    "        s, d, c = generate_data(size, size, 1000)\n",
    "        iteration, is_equal_Z = compare_and_test(s, d, c)\n",
    "        iterations.append(iteration)\n",
    "        is_equal_Zs.append(is_equal_Z)\n",
    "    print(f\"Problem size: {size}, Average iterations: {np.mean(iterations)}, Equal Zs: {np.mean(is_equal_Zs)}\")"
   ]
  }
 ],
 "metadata": {
  "kernelspec": {
   "display_name": "base",
   "language": "python",
   "name": "python3"
  },
  "language_info": {
   "codemirror_mode": {
    "name": "ipython",
    "version": 3
   },
   "file_extension": ".py",
   "mimetype": "text/x-python",
   "name": "python",
   "nbconvert_exporter": "python",
   "pygments_lexer": "ipython3",
   "version": "3.8.16"
  }
 },
 "nbformat": 4,
 "nbformat_minor": 2
}
