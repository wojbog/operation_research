{
 "cells": [
  {
   "cell_type": "markdown",
   "metadata": {},
   "source": [
    "# Lab2 - PuLP Library"
   ]
  },
  {
   "cell_type": "markdown",
   "metadata": {},
   "source": [
    "<b>Information on group members:</b><br>\n",
    "1) 156039 Krzysztof Skrobała <br>\n",
    "2) 156034 Wojciech Bogacz"
   ]
  },
  {
   "cell_type": "code",
   "execution_count": 2,
   "metadata": {},
   "outputs": [
    {
     "name": "stdout",
     "output_type": "stream",
     "text": [
      "Requirement already satisfied: pulp in /home/krzys/anaconda3/lib/python3.9/site-packages (2.9.0)\n",
      "\n",
      "\u001b[1m[\u001b[0m\u001b[34;49mnotice\u001b[0m\u001b[1;39;49m]\u001b[0m\u001b[39;49m A new release of pip is available: \u001b[0m\u001b[31;49m24.0\u001b[0m\u001b[39;49m -> \u001b[0m\u001b[32;49m24.2\u001b[0m\n",
      "\u001b[1m[\u001b[0m\u001b[34;49mnotice\u001b[0m\u001b[1;39;49m]\u001b[0m\u001b[39;49m To update, run: \u001b[0m\u001b[32;49mpip install --upgrade pip\u001b[0m\n",
      "Requirement already satisfied: numpy in /home/krzys/anaconda3/lib/python3.9/site-packages (1.24.3)\n",
      "\n",
      "\u001b[1m[\u001b[0m\u001b[34;49mnotice\u001b[0m\u001b[1;39;49m]\u001b[0m\u001b[39;49m A new release of pip is available: \u001b[0m\u001b[31;49m24.0\u001b[0m\u001b[39;49m -> \u001b[0m\u001b[32;49m24.2\u001b[0m\n",
      "\u001b[1m[\u001b[0m\u001b[34;49mnotice\u001b[0m\u001b[1;39;49m]\u001b[0m\u001b[39;49m To update, run: \u001b[0m\u001b[32;49mpip install --upgrade pip\u001b[0m\n",
      "Requirement already satisfied: pandas in /home/krzys/anaconda3/lib/python3.9/site-packages (1.5.3)\n",
      "Requirement already satisfied: python-dateutil>=2.8.1 in /home/krzys/anaconda3/lib/python3.9/site-packages (from pandas) (2.9.0.post0)\n",
      "Requirement already satisfied: pytz>=2020.1 in /home/krzys/anaconda3/lib/python3.9/site-packages (from pandas) (2024.1)\n",
      "Requirement already satisfied: numpy>=1.20.3 in /home/krzys/anaconda3/lib/python3.9/site-packages (from pandas) (1.24.3)\n",
      "Requirement already satisfied: six>=1.5 in /home/krzys/anaconda3/lib/python3.9/site-packages (from python-dateutil>=2.8.1->pandas) (1.16.0)\n",
      "\n",
      "\u001b[1m[\u001b[0m\u001b[34;49mnotice\u001b[0m\u001b[1;39;49m]\u001b[0m\u001b[39;49m A new release of pip is available: \u001b[0m\u001b[31;49m24.0\u001b[0m\u001b[39;49m -> \u001b[0m\u001b[32;49m24.2\u001b[0m\n",
      "\u001b[1m[\u001b[0m\u001b[34;49mnotice\u001b[0m\u001b[1;39;49m]\u001b[0m\u001b[39;49m To update, run: \u001b[0m\u001b[32;49mpip install --upgrade pip\u001b[0m\n"
     ]
    }
   ],
   "source": [
    "!pip install pulp\n",
    "!pip install numpy\n",
    "!pip install pandas\n"
   ]
  },
  {
   "cell_type": "code",
   "execution_count": 3,
   "metadata": {},
   "outputs": [],
   "source": [
    "from pulp import *  \n",
    "import numpy as np\n",
    "import pandas as pd"
   ]
  },
  {
   "cell_type": "markdown",
   "metadata": {},
   "source": [
    "## Introduction - brief tutorial on PuLP"
   ]
  },
  {
   "cell_type": "code",
   "execution_count": 4,
   "metadata": {},
   "outputs": [],
   "source": [
    "# Create an LpProblem instance; LpMaximize = objective function is to be maximized\n",
    "model = LpProblem(name=\"some-problem\", sense=LpMaximize)"
   ]
  },
  {
   "cell_type": "code",
   "execution_count": 5,
   "metadata": {},
   "outputs": [],
   "source": [
    "# Initialize the decision variables. We can set the name and lower bound as well.\n",
    "# To create an array of variables, you can use comprehensions of LpProblem.dicts.\n",
    "\n",
    "x1 = LpVariable(name=\"x1\", lowBound=0)\n",
    "x2 = LpVariable(name=\"x2\", lowBound=0)"
   ]
  },
  {
   "cell_type": "code",
   "execution_count": 6,
   "metadata": {},
   "outputs": [
    {
     "data": {
      "text/plain": [
       "pulp.pulp.LpAffineExpression"
      ]
     },
     "execution_count": 6,
     "metadata": {},
     "output_type": "execute_result"
    }
   ],
   "source": [
    "# An example expression\n",
    "expression = 3 * x1 + 2 * x2\n",
    "type(expression)"
   ]
  },
  {
   "cell_type": "code",
   "execution_count": 7,
   "metadata": {},
   "outputs": [
    {
     "data": {
      "text/plain": [
       "pulp.pulp.LpConstraint"
      ]
     },
     "execution_count": 7,
     "metadata": {},
     "output_type": "execute_result"
    }
   ],
   "source": [
    "# An example constraint\n",
    "constraint = 2 * x1 + 3 * x2 >= 5\n",
    "type(constraint)"
   ]
  },
  {
   "cell_type": "markdown",
   "metadata": {},
   "source": [
    "Ok, let's now use PuLP to solve the below problem:\n",
    "$max$ $4x_1 + 2x_2$ <br>\n",
    "s.t.<br>\n",
    "     $1x_1 + 1x_2 \\geq 1$ <br>\n",
    "     $2x_1 + 1x_2 \\leq 6$ <br>\n",
    "     $-1x_1 + x_2 = 1$ <br>\n",
    "     $x_1 \\geq 0$ <br>\n",
    "     $x_2 \\geq 0$ "
   ]
  },
  {
   "cell_type": "code",
   "execution_count": 8,
   "metadata": {},
   "outputs": [
    {
     "data": {
      "text/plain": [
       "test-problem:\n",
       "MAXIMIZE\n",
       "4*x1 + 2*x2 + 0\n",
       "SUBJECT TO\n",
       "#1_constraint: x1 + x2 >= 1\n",
       "\n",
       "#2_constraint: 2 x1 + x2 <= 6\n",
       "\n",
       "#3_constraint: - x1 + x2 = 1\n",
       "\n",
       "VARIABLES\n",
       "x1 Continuous\n",
       "x2 Continuous"
      ]
     },
     "execution_count": 8,
     "metadata": {},
     "output_type": "execute_result"
    }
   ],
   "source": [
    "# Problem\n",
    "model = LpProblem(name=\"test-problem\", sense=LpMaximize)\n",
    "\n",
    "x1 = LpVariable(name=\"x1\", lowBound=0)\n",
    "x2 = LpVariable(name=\"x2\", lowBound=0)\n",
    "\n",
    "model += (1 * x1 + 1*x2 >= 1, \"#1 constraint\")\n",
    "model += (2 * x1 + 1*x2 <= 6, \"#2 constraint\")\n",
    "model += (-1 * x1 + 1*x2 == 1, \"#3 constraint\")\n",
    "\n",
    "# Objective function\n",
    "obj_func = 4*x1 + 2 * x2\n",
    "model += obj_func\n",
    "\n",
    "model"
   ]
  },
  {
   "cell_type": "code",
   "execution_count": 9,
   "metadata": {},
   "outputs": [
    {
     "name": "stdout",
     "output_type": "stream",
     "text": [
      "Welcome to the CBC MILP Solver \n",
      "Version: 2.10.3 \n",
      "Build Date: Dec 15 2019 \n",
      "\n",
      "command line - /home/krzys/anaconda3/lib/python3.9/site-packages/pulp/solverdir/cbc/linux/64/cbc /tmp/75c07f81d16f4cb9b85bd566acddd516-pulp.mps -max -timeMode elapsed -branch -printingOptions all -solution /tmp/75c07f81d16f4cb9b85bd566acddd516-pulp.sol (default strategy 1)\n",
      "At line 2 NAME          MODEL\n",
      "At line 3 ROWS\n",
      "At line 8 COLUMNS\n",
      "At line 17 RHS\n",
      "At line 21 BOUNDS\n",
      "At line 22 ENDATA\n",
      "Problem MODEL has 3 rows, 2 columns and 6 elements\n",
      "Coin0008I MODEL read with 0 errors\n",
      "Option for timeMode changed from cpu to elapsed\n",
      "Presolve 0 (-3) rows, 0 (-2) columns and 0 (-6) elements\n",
      "Empty problem - 0 rows, 0 columns and 0 elements\n",
      "Optimal - objective value 12\n",
      "After Postsolve, objective 12, infeasibilities - dual 0 (0), primal 0 (0)\n",
      "Optimal objective 12 - 0 iterations time 0.002, Presolve 0.00\n",
      "Option for printingOptions changed from normal to all\n",
      "Total time (CPU seconds):       0.00   (Wallclock seconds):       0.00\n",
      "\n"
     ]
    }
   ],
   "source": [
    "# Solve the problem\n",
    "status = model.solve()"
   ]
  },
  {
   "cell_type": "code",
   "execution_count": 10,
   "metadata": {},
   "outputs": [
    {
     "name": "stdout",
     "output_type": "stream",
     "text": [
      "status: 1, Optimal\n"
     ]
    }
   ],
   "source": [
    "# Print status\n",
    "print(f\"status: {model.status}, {LpStatus[model.status]}\")"
   ]
  },
  {
   "cell_type": "code",
   "execution_count": 11,
   "metadata": {},
   "outputs": [
    {
     "name": "stdout",
     "output_type": "stream",
     "text": [
      "objective: 12.000000199999999\n"
     ]
    }
   ],
   "source": [
    "# Print objective value\n",
    "print(f\"objective: {model.objective.value()}\")"
   ]
  },
  {
   "cell_type": "code",
   "execution_count": 12,
   "metadata": {},
   "outputs": [
    {
     "name": "stdout",
     "output_type": "stream",
     "text": [
      "#1_constraint: 3.3333334\n",
      "#2_constraint: 9.999999983634211e-08\n",
      "#3_constraint: 0.0\n"
     ]
    }
   ],
   "source": [
    "# Print constraint values\n",
    "for name, constraint in model.constraints.items():  print(f\"{name}: {constraint.value()}\")"
   ]
  },
  {
   "cell_type": "code",
   "execution_count": 13,
   "metadata": {},
   "outputs": [
    {
     "data": {
      "text/plain": [
       "[x1, x2]"
      ]
     },
     "execution_count": 13,
     "metadata": {},
     "output_type": "execute_result"
    }
   ],
   "source": [
    "model.variables()"
   ]
  },
  {
   "cell_type": "code",
   "execution_count": 14,
   "metadata": {},
   "outputs": [
    {
     "name": "stdout",
     "output_type": "stream",
     "text": [
      "1.6666667\n",
      "2.6666667\n"
     ]
    }
   ],
   "source": [
    "print(x1.value())\n",
    "print(x2.value())"
   ]
  },
  {
   "cell_type": "markdown",
   "metadata": {},
   "source": [
    "### The same code but using dictionaries and other nice tricks\n"
   ]
  },
  {
   "cell_type": "code",
   "execution_count": 15,
   "metadata": {},
   "outputs": [],
   "source": [
    "model = LpProblem(name=\"some-problem\", sense=LpMaximize)"
   ]
  },
  {
   "cell_type": "code",
   "execution_count": 16,
   "metadata": {},
   "outputs": [
    {
     "data": {
      "text/plain": [
       "{'First': x_First, 'Second': x_Second}"
      ]
     },
     "execution_count": 16,
     "metadata": {},
     "output_type": "execute_result"
    }
   ],
   "source": [
    "var_names = [\"First\", \"Second\"]\n",
    "x = LpVariable.dicts(\"x\", var_names, 0)\n",
    "x"
   ]
  },
  {
   "cell_type": "code",
   "execution_count": 17,
   "metadata": {},
   "outputs": [
    {
     "data": {
      "text/plain": [
       "some-problem:\n",
       "MAXIMIZE\n",
       "4*x_First + 2*x_Second + 0\n",
       "SUBJECT TO\n",
       "GE: x_First + x_Second >= 1\n",
       "\n",
       "LE: 2 x_First + x_Second <= 6\n",
       "\n",
       "EQ: - x_First + x_Second = 1\n",
       "\n",
       "VARIABLES\n",
       "x_First Continuous\n",
       "x_Second Continuous"
      ]
     },
     "execution_count": 17,
     "metadata": {},
     "output_type": "execute_result"
    }
   ],
   "source": [
    "const_names = [\"GE\", \"LE\", \"EQ\"]\n",
    "sense = [1, -1, 0] # GE, LE, EQ\n",
    "coefs = [[1,1],[2,1],[-1,1]] # Matrix coefs\n",
    "rhs = [1, 6, 1] \n",
    "\n",
    "for c, s, r, cn in zip(coefs, sense, rhs, const_names):\n",
    "    expr = lpSum([x[var_names[i]] * c[i] for i in range(2)])\n",
    "    model += LpConstraint(e=expr, sense = s, name = cn, rhs = r)\n",
    "    \n",
    "obj_coefs = [4,2]\n",
    "model += lpSum([x[var_names[i]] * obj_coefs[i] for i in range(2)])\n",
    "    \n",
    "model"
   ]
  },
  {
   "cell_type": "code",
   "execution_count": 18,
   "metadata": {},
   "outputs": [
    {
     "name": "stdout",
     "output_type": "stream",
     "text": [
      "Welcome to the CBC MILP Solver \n",
      "Version: 2.10.3 \n",
      "Build Date: Dec 15 2019 \n",
      "\n",
      "command line - /home/krzys/anaconda3/lib/python3.9/site-packages/pulp/solverdir/cbc/linux/64/cbc /tmp/2b0f70a67d3140928a604ea48f10aece-pulp.mps -max -timeMode elapsed -branch -printingOptions all -solution /tmp/2b0f70a67d3140928a604ea48f10aece-pulp.sol (default strategy 1)\n",
      "At line 2 NAME          MODEL\n",
      "At line 3 ROWS\n",
      "At line 8 COLUMNS\n",
      "At line 17 RHS\n",
      "At line 21 BOUNDS\n",
      "At line 22 ENDATA\n",
      "Problem MODEL has 3 rows, 2 columns and 6 elements\n",
      "Coin0008I MODEL read with 0 errors\n",
      "Option for timeMode changed from cpu to elapsed\n",
      "Presolve 0 (-3) rows, 0 (-2) columns and 0 (-6) elements\n",
      "Empty problem - 0 rows, 0 columns and 0 elements\n",
      "Optimal - objective value 12\n",
      "After Postsolve, objective 12, infeasibilities - dual 0 (0), primal 0 (0)\n",
      "Optimal objective 12 - 0 iterations time 0.002, Presolve 0.00\n",
      "Option for printingOptions changed from normal to all\n",
      "Total time (CPU seconds):       0.00   (Wallclock seconds):       0.00\n",
      "\n",
      "status: 1, Optimal\n",
      "objective: 12.000000199999999\n",
      "1.6666667\n",
      "2.6666667\n"
     ]
    }
   ],
   "source": [
    "status = model.solve()\n",
    "print(f\"status: {model.status}, {LpStatus[model.status]}\")\n",
    "print(f\"objective: {model.objective.value()}\")\n",
    "for n in var_names: print(x[n].value())"
   ]
  },
  {
   "cell_type": "markdown",
   "metadata": {},
   "source": [
    "# Homework - use the PuLP library to solve the following OR problem "
   ]
  },
  {
   "cell_type": "markdown",
   "metadata": {},
   "source": [
    "Johnson & Sons company manufactures 6 types of toys. Each toy is produced by utilizing at least one Machine 1-4, requiring a different production time (see Table below). For instance, product A requires 4 minutes on Machine 1, 4 minutes on Machine 2, 0 Minutes on Machine 3, and 0 minutes on Machine 4 (all machines must be utilized to produce a toy unless the production time equals 0). Each machine is available for a different number of hours per week. The company aims to identify the number (product-mix) of toys that must be manufactured to maximize the income (can be continuous). Notably, each toy can be sold for a different price. Due to market expectations, the company wants to manufacture twice as many F toys as A. Furthermore, the number of toys B should equal C. Solve this problem using the PuLP library. Prepare a report (in the jupyter notebook) containing information on the following:\n",
    "<ol>\n",
    "<li>The number of toys to manufacture;</li>\n",
    "<li>The expected income;</li>\n",
    "<li>The production time required on each machine;</li>\n",
    "</ol>\n",
    "Consider the total and partial values, i.e., considered for each toy A-F separately (e.g., income resulting from selling toy A). Also, answer the following questions concerning the found solution:\n",
    "<ol>\n",
    "<li>Which toy(s) production should be focused on?  </li>\n",
    "<li>Is there a toy that can be excluded from consideration for production? </li>\n",
    "<li>Is there a machine that is not fully utilized?</li>\n",
    "</ol>"
   ]
  },
  {
   "cell_type": "markdown",
   "metadata": {},
   "source": [
    "| Toy | Machine 1 | Machine 2 | Machine 3 | Machine 4 | Selling price |\n",
    "| --- | --- | --- | --- | --- | --- |\n",
    "| A | 4 (minutes!) | 4 | 0 | 0 | 2.50 USD |\n",
    "| B | 0 | 3 | 3 | 0 | 1.00 USD |\n",
    "| C | 5 | 0 | 2 | 5 | 4.00 USD |\n",
    "| D | 2 | 4 | 0 | 4 | 3.00 USD |\n",
    "| E | 0 | 4 | 5 | 2 | 3.50 USD |\n",
    "| F | 2 | 2 | 1 | 1 | 4.00 USD |\n",
    "| Production time limit (hours!) | 120 | 60 |  80 |  120 |  |"
   ]
  },
  {
   "cell_type": "markdown",
   "metadata": {},
   "source": [
    "# Defining the Problem\n",
    "We define our problem in terms of __Linear Programming__ as follows:\n",
    "\n",
    "$$ \\textbf x = (x_a, x_b, x_c, x_d, x_e, x_f) $$\n",
    "$$ \\textbf p = (2.5,1,4,3,3.5,4)$$\n",
    "$$ \\max_\\textbf x z = \\textbf x \\cdot \\textbf p $$\n",
    "\n",
    "Subject to constraints:\n",
    "\n",
    "$$x_f = 2x_a$$\n",
    "$$x_b = x_c$$\n",
    "$$\\textbf x \\cdot \\textbf m_1 \\le 120 * 60$$\n",
    "$$\\textbf x \\cdot \\textbf m_2 \\le 60 * 60$$\n",
    "$$\\textbf x \\cdot \\textbf m_3 \\le 80 * 60$$\n",
    "$$\\textbf x \\cdot \\textbf m_4 \\le 120 * 60$$\n",
    "\n",
    "\n",
    "Where:\n",
    "$$ \\textbf m_1 = (4,0,5,2,0,2) $$\n",
    "$$ \\textbf m_2 = (4,3,0,4,4,2) $$\n",
    "$$ \\textbf m_3 = (0,3,2,0,5,1) $$\n",
    "$$ \\textbf m_4 = (0,0,5,4,2,1) $$"
   ]
  },
  {
   "cell_type": "code",
   "execution_count": 19,
   "metadata": {},
   "outputs": [],
   "source": [
    "x = [LpVariable(name=f\"x{i}\", lowBound=0,cat='Integer') for i in ['A', 'B', 'C', 'D', 'E', 'F']]\n",
    "model = LpProblem(name=\"Johnson&Son-problem\", sense=LpMaximize)\n",
    "price = [2.5, 1.0, 4.0, 3.0, 3.5, 4.0]\n",
    "m1 = [4,0,5,2,0,2]\n",
    "m2 = [4,3,0,4,4,2]\n",
    "m3 = [0,3,2,0,5,1]\n",
    "m4 = [0,0,5,4,2,1]\n"
   ]
  },
  {
   "cell_type": "code",
   "execution_count": 20,
   "metadata": {},
   "outputs": [],
   "source": [
    "total_income = lpSum([price[i] * x[i] for i in range(6)])"
   ]
  },
  {
   "cell_type": "code",
   "execution_count": 21,
   "metadata": {},
   "outputs": [],
   "source": [
    "model+=total_income"
   ]
  },
  {
   "cell_type": "code",
   "execution_count": 22,
   "metadata": {},
   "outputs": [],
   "source": [
    "model+= (x[5]==2*x[0], \"F==2A\")\n",
    "model+= (x[1]==x[2], \"B==C\")\n",
    "model+= (x[0]*m1[0]+x[1]*m1[1]+x[2]*m1[2]+x[3]*m1[3]+x[4]*m1[4]+x[5]*m1[5]<=120*60, \"m1\")\n",
    "model+= (x[0]*m2[0]+x[1]*m2[1]+x[2]*m2[2]+x[3]*m2[3]+x[4]*m2[4]+x[5]*m2[5]<=60*60, \"m2\")\n",
    "model+= (x[0]*m3[0]+x[1]*m3[1]+x[2]*m3[2]+x[3]*m3[3]+x[4]*m3[4]+x[5]*m3[5]<=80*60, \"m3\")\n",
    "model+= (x[0]*m4[0]+x[1]*m4[1]+x[2]*m4[2]+x[3]*m4[3]+x[4]*m4[4]+x[5]*m4[5]<=120*60, \"m4\")"
   ]
  },
  {
   "cell_type": "code",
   "execution_count": 23,
   "metadata": {},
   "outputs": [
    {
     "data": {
      "text/plain": [
       "Johnson&Son-problem:\n",
       "MAXIMIZE\n",
       "2.5*xA + 1.0*xB + 4.0*xC + 3.0*xD + 3.5*xE + 4.0*xF + 0.0\n",
       "SUBJECT TO\n",
       "F==2A: - 2 xA + xF = 0\n",
       "\n",
       "B==C: xB - xC = 0\n",
       "\n",
       "m1: 4 xA + 5 xC + 2 xD + 2 xF <= 7200\n",
       "\n",
       "m2: 4 xA + 3 xB + 4 xD + 4 xE + 2 xF <= 3600\n",
       "\n",
       "m3: 3 xB + 2 xC + 5 xE + xF <= 4800\n",
       "\n",
       "m4: 5 xC + 4 xD + 2 xE + xF <= 7200\n",
       "\n",
       "VARIABLES\n",
       "0 <= xA Integer\n",
       "0 <= xB Integer\n",
       "0 <= xC Integer\n",
       "0 <= xD Integer\n",
       "0 <= xE Integer\n",
       "0 <= xF Integer"
      ]
     },
     "execution_count": 23,
     "metadata": {},
     "output_type": "execute_result"
    }
   ],
   "source": [
    "model"
   ]
  },
  {
   "cell_type": "code",
   "execution_count": 24,
   "metadata": {},
   "outputs": [
    {
     "name": "stdout",
     "output_type": "stream",
     "text": [
      "Welcome to the CBC MILP Solver \n",
      "Version: 2.10.3 \n",
      "Build Date: Dec 15 2019 \n",
      "\n",
      "command line - /home/krzys/anaconda3/lib/python3.9/site-packages/pulp/solverdir/cbc/linux/64/cbc /tmp/8fc363861e374d308e1857b015749375-pulp.mps -max -timeMode elapsed -branch -printingOptions all -solution /tmp/8fc363861e374d308e1857b015749375-pulp.sol (default strategy 1)\n",
      "At line 2 NAME          MODEL\n",
      "At line 3 ROWS\n",
      "At line 11 COLUMNS\n",
      "At line 51 RHS\n",
      "At line 58 BOUNDS\n",
      "At line 65 ENDATA\n",
      "Problem MODEL has 6 rows, 6 columns and 21 elements\n",
      "Coin0008I MODEL read with 0 errors\n",
      "Option for timeMode changed from cpu to elapsed\n",
      "Continuous objective value is 5700 - 0.00 seconds\n",
      "Cgl0004I processed model has 4 rows, 4 columns (4 integer (0 of which binary)) and 14 elements\n",
      "Cutoff increment increased from 1e-05 to 0.4999\n",
      "Cbc0012I Integer solution of -5687.5 found by DiveCoefficient after 0 iterations and 0 nodes (0.00 seconds)\n",
      "Cbc0038I Full problem 4 rows 4 columns, reduced to 3 rows 2 columns\n",
      "Cbc0012I Integer solution of -5698 found by DiveCoefficient after 3 iterations and 0 nodes (0.01 seconds)\n",
      "Cbc0031I 2 added rows had average density of 4\n",
      "Cbc0013I At root node, 2 cuts changed objective from -5700 to -5698 in 11 passes\n",
      "Cbc0014I Cut generator 0 (Probing) - 0 row cuts average 0.0 elements, 23 column cuts (23 active)  in 0.000 seconds - new frequency is 1\n",
      "Cbc0014I Cut generator 1 (Gomory) - 3 row cuts average 3.3 elements, 0 column cuts (0 active)  in 0.001 seconds - new frequency is 1\n",
      "Cbc0014I Cut generator 2 (Knapsack) - 0 row cuts average 0.0 elements, 0 column cuts (0 active)  in 0.000 seconds - new frequency is -100\n",
      "Cbc0014I Cut generator 3 (Clique) - 0 row cuts average 0.0 elements, 0 column cuts (0 active)  in 0.000 seconds - new frequency is -100\n",
      "Cbc0014I Cut generator 4 (MixedIntegerRounding2) - 0 row cuts average 0.0 elements, 0 column cuts (0 active)  in 0.000 seconds - new frequency is -100\n",
      "Cbc0014I Cut generator 5 (FlowCover) - 0 row cuts average 0.0 elements, 0 column cuts (0 active)  in 0.000 seconds - new frequency is -100\n",
      "Cbc0014I Cut generator 6 (TwoMirCuts) - 4 row cuts average 3.5 elements, 0 column cuts (0 active)  in 0.001 seconds - new frequency is -100\n",
      "Cbc0001I Search completed - best objective -5698, took 3 iterations and 0 nodes (0.01 seconds)\n",
      "Cbc0035I Maximum depth 0, 0 variables fixed on reduced cost\n",
      "Cuts at root node changed objective from -5700 to -5698\n",
      "Probing was tried 11 times and created 23 cuts of which 0 were active after adding rounds of cuts (0.000 seconds)\n",
      "Gomory was tried 11 times and created 3 cuts of which 0 were active after adding rounds of cuts (0.001 seconds)\n",
      "Knapsack was tried 11 times and created 0 cuts of which 0 were active after adding rounds of cuts (0.000 seconds)\n",
      "Clique was tried 11 times and created 0 cuts of which 0 were active after adding rounds of cuts (0.000 seconds)\n",
      "MixedIntegerRounding2 was tried 11 times and created 0 cuts of which 0 were active after adding rounds of cuts (0.000 seconds)\n",
      "FlowCover was tried 11 times and created 0 cuts of which 0 were active after adding rounds of cuts (0.000 seconds)\n",
      "TwoMirCuts was tried 11 times and created 4 cuts of which 0 were active after adding rounds of cuts (0.001 seconds)\n",
      "ZeroHalf was tried 1 times and created 0 cuts of which 0 were active after adding rounds of cuts (0.000 seconds)\n",
      "\n",
      "Result - Optimal solution found\n",
      "\n",
      "Objective value:                5698.00000000\n",
      "Enumerated nodes:               0\n",
      "Total iterations:               3\n",
      "Time (CPU seconds):             0.01\n",
      "Time (Wallclock seconds):       0.01\n",
      "\n",
      "Option for printingOptions changed from normal to all\n",
      "Total time (CPU seconds):       0.01   (Wallclock seconds):       0.01\n",
      "\n"
     ]
    }
   ],
   "source": [
    "status = model.solve()"
   ]
  },
  {
   "cell_type": "code",
   "execution_count": 25,
   "metadata": {},
   "outputs": [
    {
     "data": {
      "text/plain": [
       "'Optimal'"
      ]
     },
     "execution_count": 25,
     "metadata": {},
     "output_type": "execute_result"
    }
   ],
   "source": [
    "LpStatus[model.status]"
   ]
  },
  {
   "cell_type": "code",
   "execution_count": 26,
   "metadata": {},
   "outputs": [],
   "source": [
    "x_values = np.array([v.value() for v in  x])"
   ]
  },
  {
   "cell_type": "markdown",
   "metadata": {},
   "source": [
    "# Number of toys to manufacture"
   ]
  },
  {
   "cell_type": "code",
   "execution_count": 27,
   "metadata": {},
   "outputs": [
    {
     "name": "stdout",
     "output_type": "stream",
     "text": [
      "Optimal number of toys A to manufacture: 106.0\n",
      "Optimal number of toys B to manufacture: 917.0\n",
      "Optimal number of toys C to manufacture: 917.0\n",
      "Optimal number of toys D to manufacture: 0.0\n",
      "Optimal number of toys E to manufacture: 0.0\n",
      "Optimal number of toys F to manufacture: 212.0\n"
     ]
    }
   ],
   "source": [
    "# print values of variables\n",
    "for i in range(6):\n",
    "    print(f\"Optimal number of toys {str(x[i])[-1]} to manufacture: {x[i].value()}\")"
   ]
  },
  {
   "cell_type": "markdown",
   "metadata": {},
   "source": [
    "# Expected Total Income"
   ]
  },
  {
   "cell_type": "code",
   "execution_count": 28,
   "metadata": {},
   "outputs": [
    {
     "name": "stdout",
     "output_type": "stream",
     "text": [
      "Expected income is 5698.0 USD\n"
     ]
    }
   ],
   "source": [
    "print(f\"Expected income is {model.objective.value()} USD\")"
   ]
  },
  {
   "cell_type": "markdown",
   "metadata": {},
   "source": [
    "# Expected income from each toy"
   ]
  },
  {
   "cell_type": "code",
   "execution_count": 29,
   "metadata": {},
   "outputs": [
    {
     "name": "stdout",
     "output_type": "stream",
     "text": [
      "Expected income from toy A is 265.0\n",
      "Expected income from toy B is 917.0\n",
      "Expected income from toy C is 3668.0\n",
      "Expected income from toy D is 0.0\n",
      "Expected income from toy E is 0.0\n",
      "Expected income from toy F is 848.0\n"
     ]
    }
   ],
   "source": [
    "for i in range(6):\n",
    "    print(f\"Expected income from toy {str(x[i])[-1]} is {x[i].value() * price[i]}\")"
   ]
  },
  {
   "cell_type": "markdown",
   "metadata": {},
   "source": [
    "# The production time required on each machine"
   ]
  },
  {
   "cell_type": "code",
   "execution_count": 30,
   "metadata": {},
   "outputs": [
    {
     "name": "stdout",
     "output_type": "stream",
     "text": [
      "The machine number 1 will be manufacturing for: 90.55 hours (5433.0 minutes)\n",
      "The machine number 2 will be manufacturing for: 59.983333333333334 hours (3599.0 minutes)\n",
      "The machine number 3 will be manufacturing for: 79.95 hours (4797.0 minutes)\n",
      "The machine number 4 will be manufacturing for: 79.95 hours (4797.0 minutes)\n"
     ]
    }
   ],
   "source": [
    "print(f\"The machine number 1 will be manufacturing for: {x_values@np.array(m1)/60} hours ({x_values@np.array(m1)} minutes)\")\n",
    "print(f\"The machine number 2 will be manufacturing for: {x_values@np.array(m2)/60} hours ({x_values@np.array(m2)} minutes)\")\n",
    "print(f\"The machine number 3 will be manufacturing for: {x_values@np.array(m3)/60} hours ({x_values@np.array(m3)} minutes)\")\n",
    "print(f\"The machine number 4 will be manufacturing for: {x_values@np.array(m4)/60} hours ({x_values@np.array(m4)} minutes)\")"
   ]
  },
  {
   "cell_type": "markdown",
   "metadata": {},
   "source": [
    "# Which toy(s) production should be focused on?"
   ]
  },
  {
   "cell_type": "code",
   "execution_count": 33,
   "metadata": {},
   "outputs": [
    {
     "name": "stdout",
     "output_type": "stream",
     "text": [
      "Optimal number of toys A to manufacture is 106.0 with income 265.0\n",
      "Optimal number of toys B to manufacture is 917.0 with income 917.0\n",
      "Optimal number of toys C to manufacture is 917.0 with income 3668.0\n",
      "Optimal number of toys D to manufacture is 0.0 with income 0.0\n",
      "Optimal number of toys E to manufacture is 0.0 with income 0.0\n",
      "Optimal number of toys F to manufacture is 212.0 with income 848.0\n"
     ]
    }
   ],
   "source": [
    "for i in range(6):\n",
    "    print(f\"Optimal number of toys {str(x[i])[-1]} to manufacture is {x[i].value()} with income {x[i].value() * price[i]}\")"
   ]
  },
  {
   "cell_type": "markdown",
   "metadata": {},
   "source": [
    "#### Clearly the most profitable toy is Toy C, which makes it a toy to put the most focus on"
   ]
  },
  {
   "cell_type": "markdown",
   "metadata": {},
   "source": [
    "# Is there a toy that can be excluded from consideration for production?"
   ]
  },
  {
   "cell_type": "code",
   "execution_count": 36,
   "metadata": {},
   "outputs": [
    {
     "name": "stdout",
     "output_type": "stream",
     "text": [
      "Toy D can be excluded, as the optimal amount to produce is 0\n",
      "Toy E can be excluded, as the optimal amount to produce is 0\n"
     ]
    }
   ],
   "source": [
    "for i in range(6):\n",
    "    if x[i].value() == 0:\n",
    "        print(f\"Toy {str(x[i])[-1]} can be excluded, as the optimal amount to produce is 0\")"
   ]
  },
  {
   "cell_type": "markdown",
   "metadata": {},
   "source": [
    "# Is there a machine that is not fully utilized?"
   ]
  },
  {
   "cell_type": "code",
   "execution_count": 44,
   "metadata": {},
   "outputs": [
    {
     "name": "stdout",
     "output_type": "stream",
     "text": [
      "The machine number 1 is utilized in 75%\n",
      "The machine number 2 is utilized in 100%\n",
      "The machine number 3 is utilized in  100%\n",
      "The machine number 4 is utilized in  67%\n"
     ]
    }
   ],
   "source": [
    "print(f\"The machine number 1 is utilized in {x_values@np.array(m1)/(60*120):.0%}\")\n",
    "print(f\"The machine number 2 is utilized in {x_values@np.array(m2)/(60*60):.0%}\")\n",
    "print(f\"The machine number 3 is utilized in  {x_values@np.array(m3)/(60*80):.0%}\")\n",
    "print(f\"The machine number 4 is utilized in  {x_values@np.array(m4)/(60*120):.0%}\")"
   ]
  }
 ],
 "metadata": {
  "kernelspec": {
   "display_name": "Python 3 (ipykernel)",
   "language": "python",
   "name": "python3"
  },
  "language_info": {
   "codemirror_mode": {
    "name": "ipython",
    "version": 3
   },
   "file_extension": ".py",
   "mimetype": "text/x-python",
   "name": "python",
   "nbconvert_exporter": "python",
   "pygments_lexer": "ipython3",
   "version": "3.11.7"
  }
 },
 "nbformat": 4,
 "nbformat_minor": 4
}
