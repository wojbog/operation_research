{
 "cells": [
  {
   "cell_type": "markdown",
   "metadata": {},
   "source": [
    "# Lab 8 - Integer Programming - BnB for MIP"
   ]
  },
  {
   "cell_type": "markdown",
   "metadata": {},
   "source": [
    "Information on group members:\n",
    "\n",
    "1) 156034, Wojciech Bogacz <br>\n",
    "2) 156039, Kzrysztof Skrobała"
   ]
  },
  {
   "cell_type": "code",
   "execution_count": 1,
   "metadata": {},
   "outputs": [],
   "source": [
    "from pulp import *\n",
    "import numpy as np\n",
    "import pandas as pd"
   ]
  },
  {
   "cell_type": "markdown",
   "metadata": {},
   "source": [
    "1) Given is the below MIP problem. Note that the first 5 variables are of an integer type with specified upper bounds"
   ]
  },
  {
   "cell_type": "code",
   "execution_count": 2,
   "metadata": {},
   "outputs": [
    {
     "name": "stdout",
     "output_type": "stream",
     "text": [
      "bnb-problem:\n",
      "MAXIMIZE\n",
      "5*x1 + 10*x10 + 7*x2 + 5*x3 + 5*x4 + 5*x5 + 5*x6 + 7*x7 + 4*x8 + 9*x9 + 0\n",
      "SUBJECT TO\n",
      "baseC1: 3 x2 + 2 x3 - 3 x7 - x8 <= 10\n",
      "\n",
      "baseC2: x1 + x10 + x2 + 2 x4 - x8 + 2 x9 <= 15\n",
      "\n",
      "baseC3: 2 x3 - 2 x4 + 3 x5 - 2 x7 + 2 x8 + x9 <= 20\n",
      "\n",
      "baseC4: x10 + 2 x3 - x6 <= 20\n",
      "\n",
      "baseC5: x10 + 2 x2 - 2 x6 <= 30\n",
      "\n",
      "baseC6: x1 + 4 x2 - 3 x7 + 6 x8 + 2 x9 <= 50\n",
      "\n",
      "baseC7: 2 x1 + 2 x10 + 2 x2 + 2 x5 + 2 x6 + 2 x9 <= 40\n",
      "\n",
      "baseC8: x10 + 3 x3 - x5 + x6 - x8 <= 20\n",
      "\n",
      "baseC9: 3 x10 + 5 x5 + x7 + x8 <= 25\n",
      "\n",
      "baseC10: 2 x1 - 7 x2 + x6 + 8 x8 + 2 x9 <= 25\n",
      "\n",
      "VARIABLES\n",
      "0 <= x1 <= 5 Integer\n",
      "x10 <= 3 Continuous\n",
      "0 <= x2 <= 8 Integer\n",
      "0 <= x3 <= 4 Integer\n",
      "0 <= x4 <= 5 Integer\n",
      "0 <= x5 <= 4 Integer\n",
      "x6 <= 5 Continuous\n",
      "x7 <= 5 Continuous\n",
      "x8 <= 3 Continuous\n",
      "x9 <= 3 Continuous\n",
      "\n"
     ]
    }
   ],
   "source": [
    "def getProblem(relaxed = False):\n",
    "    \n",
    "    A = [\n",
    "        [0,3,2,0,0,0,-3,-1,0,0],\n",
    "        [1,1,0,2,0,0,0,-1,2,1],\n",
    "        [0,0,2,-2,3,0,-2,2,1,0],\n",
    "        [0,0,2,0,0,-1,0,0,0,1],\n",
    "        [0,2,0,0,0,-2,0,0,0,1],\n",
    "        [1,4,0,0,0,0,-3,6,2,0],\n",
    "        [2,2,0,0,2,2,0,0,2,2],\n",
    "        [0,0,3,0,-1,1,0,-1,0,1],\n",
    "        [0,0,0,0,5,0,1,1,0,3],\n",
    "        [2,-7,0,0,0,1,0,8,2,0]]\n",
    "    b = [10,15,20,20,30,50,40,20,25,25]\n",
    "    c = [5, 7, 5, 5, 5, 5, 7, 4, 9, 10]\n",
    "    uB = [5, 8, 4, 5, 4, 5, 5, 3, 3, 3]\n",
    "    \n",
    "    problem = LpProblem(name=\"bnb-problem\", sense=LpMaximize)\n",
    "    \n",
    "    ### 5 integers and 3 continuous (if relaxed, 8 cont.)\n",
    "    cat = ['Integer' for i in range(5)] + ['Continuous' for i in range(5)]\n",
    "    if relaxed: cat = ['Continuous' for i in range(5)] + ['Continuous' for i in range(5)]\n",
    "        \n",
    "    x = [LpVariable(name=\"x\"+ str(i+1), lowBound=0, upBound=uB[i], cat = cat[i]) for i in range(10)]\n",
    "    \n",
    "    for r in range(10):\n",
    "        expr = lpSum([x[j] * A[r][j] for j in range(10)])\n",
    "        problem += LpConstraint(e=expr, sense = -1, name = \"baseC\"+str(r+1), rhs = b[r])\n",
    "        \n",
    "    obj_func = lpSum([x[j] * c[j] for j in range(10)])\n",
    "    problem += obj_func\n",
    "    \n",
    "    return x, problem\n",
    "\n",
    "x, P = getProblem()\n",
    "print(P)"
   ]
  },
  {
   "cell_type": "markdown",
   "metadata": {},
   "source": [
    "2) The below function returns None if the problem has no feasible solutions. Otherwise, it returns a tuple: objective function values and a vector of decision variables. "
   ]
  },
  {
   "cell_type": "code",
   "execution_count": 3,
   "metadata": {},
   "outputs": [],
   "source": [
    "def getSolution(x, problem):\n",
    "    status = problem.solve()\n",
    "    if problem.status != 1: return None\n",
    "    return problem.objective.value(), [_.value() for _ in x]"
   ]
  },
  {
   "cell_type": "markdown",
   "metadata": {},
   "source": [
    "3) PuLP can solve MIP problems. Hence, the \"relaxed\" flag can be set to False. Solve the problem and analyze the obtained outcome.  "
   ]
  },
  {
   "cell_type": "code",
   "execution_count": 4,
   "metadata": {},
   "outputs": [
    {
     "name": "stdout",
     "output_type": "stream",
     "text": [
      "Welcome to the CBC MILP Solver \n",
      "Version: 2.10.3 \n",
      "Build Date: Dec 15 2019 \n",
      "\n",
      "command line - /home/wojtek/Documents/uczelnia/oper_research/.venv/lib/python3.11/site-packages/pulp/solverdir/cbc/linux/64/cbc /tmp/af337e095b814268abcabe6199ebaa3b-pulp.mps -max -timeMode elapsed -branch -printingOptions all -solution /tmp/af337e095b814268abcabe6199ebaa3b-pulp.sol (default strategy 1)\n",
      "At line 2 NAME          MODEL\n",
      "At line 3 ROWS\n",
      "At line 15 COLUMNS\n",
      "At line 83 RHS\n",
      "At line 94 BOUNDS\n",
      "At line 105 ENDATA\n",
      "Problem MODEL has 10 rows, 10 columns and 47 elements\n",
      "Coin0008I MODEL read with 0 errors\n",
      "Option for timeMode changed from cpu to elapsed\n",
      "Continuous objective value is 211.333 - 0.00 seconds\n",
      "Cgl0004I processed model has 7 rows, 10 columns (5 integer (0 of which binary)) and 36 elements\n",
      "Cbc0012I Integer solution of -206 found by DiveCoefficient after 0 iterations and 0 nodes (0.01 seconds)\n",
      "Cbc0012I Integer solution of -207 found by DiveCoefficient after 158 iterations and 0 nodes (0.05 seconds)\n",
      "Cbc0031I 5 added rows had average density of 7.6\n",
      "Cbc0013I At root node, 5 cuts changed objective from -211.33333 to -207.08988 in 100 passes\n",
      "Cbc0014I Cut generator 0 (Probing) - 0 row cuts average 0.0 elements, 1 column cuts (1 active)  in 0.003 seconds - new frequency is -100\n",
      "Cbc0014I Cut generator 1 (Gomory) - 135 row cuts average 8.9 elements, 0 column cuts (0 active)  in 0.010 seconds - new frequency is 1\n",
      "Cbc0014I Cut generator 2 (Knapsack) - 0 row cuts average 0.0 elements, 0 column cuts (0 active)  in 0.002 seconds - new frequency is -100\n",
      "Cbc0014I Cut generator 3 (Clique) - 0 row cuts average 0.0 elements, 0 column cuts (0 active)  in 0.000 seconds - new frequency is -100\n",
      "Cbc0014I Cut generator 4 (MixedIntegerRounding2) - 7 row cuts average 4.0 elements, 0 column cuts (0 active)  in 0.004 seconds - new frequency is -100\n",
      "Cbc0014I Cut generator 5 (FlowCover) - 0 row cuts average 0.0 elements, 0 column cuts (0 active)  in 0.003 seconds - new frequency is -100\n",
      "Cbc0014I Cut generator 6 (TwoMirCuts) - 21 row cuts average 6.7 elements, 0 column cuts (0 active)  in 0.002 seconds - new frequency is 1\n",
      "Cbc0010I After 0 nodes, 1 on tree, -207 best solution, best possible -207.08988 (0.05 seconds)\n",
      "Cbc0001I Search completed - best objective -207, took 171 iterations and 2 nodes (0.05 seconds)\n",
      "Cbc0032I Strong branching done 6 times (19 iterations), fathomed 0 nodes and fixed 2 variables\n",
      "Cbc0035I Maximum depth 0, 0 variables fixed on reduced cost\n",
      "Cuts at root node changed objective from -211.333 to -207.09\n",
      "Probing was tried 100 times and created 1 cuts of which 0 were active after adding rounds of cuts (0.003 seconds)\n",
      "Gomory was tried 101 times and created 137 cuts of which 0 were active after adding rounds of cuts (0.010 seconds)\n",
      "Knapsack was tried 100 times and created 0 cuts of which 0 were active after adding rounds of cuts (0.002 seconds)\n",
      "Clique was tried 100 times and created 0 cuts of which 0 were active after adding rounds of cuts (0.000 seconds)\n",
      "MixedIntegerRounding2 was tried 100 times and created 7 cuts of which 0 were active after adding rounds of cuts (0.004 seconds)\n",
      "FlowCover was tried 100 times and created 0 cuts of which 0 were active after adding rounds of cuts (0.003 seconds)\n",
      "TwoMirCuts was tried 101 times and created 24 cuts of which 0 were active after adding rounds of cuts (0.002 seconds)\n",
      "ZeroHalf was tried 1 times and created 0 cuts of which 0 were active after adding rounds of cuts (0.000 seconds)\n",
      "\n",
      "Result - Optimal solution found\n",
      "\n",
      "Objective value:                207.00000000\n",
      "Enumerated nodes:               2\n",
      "Total iterations:               171\n",
      "Time (CPU seconds):             0.05\n",
      "Time (Wallclock seconds):       0.06\n",
      "\n",
      "Option for printingOptions changed from normal to all\n",
      "Total time (CPU seconds):       0.05   (Wallclock seconds):       0.06\n",
      "\n",
      "(207.0, [3.0, 6.0, 4.0, 1.0, 1.0, 5.0, 5.0, 3.0, 2.0, 3.0])\n"
     ]
    }
   ],
   "source": [
    "x, problem = getProblem(relaxed = False)\n",
    "print(getSolution(x, problem))"
   ]
  },
  {
   "cell_type": "markdown",
   "metadata": {},
   "source": [
    "4) Now, compare this solution with the one obtained for the relaxed LP problem: "
   ]
  },
  {
   "cell_type": "code",
   "execution_count": 5,
   "metadata": {},
   "outputs": [
    {
     "name": "stdout",
     "output_type": "stream",
     "text": [
      "Welcome to the CBC MILP Solver \n",
      "Version: 2.10.3 \n",
      "Build Date: Dec 15 2019 \n",
      "\n",
      "command line - /home/wojtek/Documents/uczelnia/oper_research/.venv/lib/python3.11/site-packages/pulp/solverdir/cbc/linux/64/cbc /tmp/406f71617ba84d5fa3554bbe46840766-pulp.mps -max -timeMode elapsed -branch -printingOptions all -solution /tmp/406f71617ba84d5fa3554bbe46840766-pulp.sol (default strategy 1)\n",
      "At line 2 NAME          MODEL\n",
      "At line 3 ROWS\n",
      "At line 15 COLUMNS\n",
      "At line 73 RHS\n",
      "At line 84 BOUNDS\n",
      "At line 95 ENDATA\n",
      "Problem MODEL has 10 rows, 10 columns and 47 elements\n",
      "Coin0008I MODEL read with 0 errors\n",
      "Option for timeMode changed from cpu to elapsed\n",
      "Presolve 7 (-3) rows, 10 (0) columns and 36 (-11) elements\n",
      "0  Obj -0 Dual inf 64.49999 (10)\n",
      "6  Obj 211.33333\n",
      "Optimal - objective value 211.33333\n",
      "After Postsolve, objective 211.33333, infeasibilities - dual 0 (0), primal 0 (0)\n",
      "Optimal objective 211.3333333 - 6 iterations time 0.002, Presolve 0.00\n",
      "Option for printingOptions changed from normal to all\n",
      "Total time (CPU seconds):       0.00   (Wallclock seconds):       0.00\n",
      "\n",
      "(211.33333355000002, [0.73333333, 6.6666667, 4.0, 0.8, 1.6, 5.0, 5.0, 3.0, 3.0, 3.0])\n"
     ]
    }
   ],
   "source": [
    "x, problem = getProblem(relaxed = True)\n",
    "print(getSolution(x, problem))"
   ]
  },
  {
   "cell_type": "markdown",
   "metadata": {},
   "source": [
    "5) Your task is to implement the Branch and Bound Algorithm for solving MIP problems. You can use the PuLP library for solving the relaxed LP subproblems. <br>\n",
    "<ul> \n",
    "    <li> Firstly, as a node selection policy, implement the default DFS-like strategy as shown in the lecture (generate both children in one iteration; prioritize the left children, i.e., associated with the \"<=\" constraint). As for the variable selection policy, take the one with the lowest index  (default, arbitrary selection). \n",
    "<li> Identify how many LP relaxed problems have to be solved to find the optimum. Note that such a number was reported to be 35 for the default policies. However, it may vary slightly for different solvers due to possible multiple sub-optima.\n",
    "<li> Propose at least 3 new node and variable selection policies with the aim of minimizing the number of solver runs required to reach the optimum.  Try getting below 20. \n",
    "    </ul>"
   ]
  },
  {
   "cell_type": "code",
   "execution_count": 14,
   "metadata": {},
   "outputs": [],
   "source": [
    "def getSolution(problem):\n",
    "    status = problem.solve(PULP_CBC_CMD(msg=False))\n",
    "    if problem.status != 1: return None\n",
    "    x = problem.variables()\n",
    "    return problem.objective.value(), [_.value() for _ in x]"
   ]
  },
  {
   "cell_type": "code",
   "execution_count": 8,
   "metadata": {},
   "outputs": [],
   "source": [
    "def check_int(problem, x, x_labels):\n",
    "    x_var = problem.variables()\n",
    "    for i in range(len(x_var)):\n",
    "        if x_labels[str(x_var[i])] == \"Integer\":\n",
    "            if x[i] % 1 != 0:\n",
    "                return False\n",
    "    return True"
   ]
  },
  {
   "cell_type": "code",
   "execution_count": 9,
   "metadata": {},
   "outputs": [],
   "source": [
    "def get_node(stos, BFS = False):\n",
    "    if BFS:\n",
    "        return stos.pop(0)\n",
    "    return stos.pop()"
   ]
  },
  {
   "cell_type": "code",
   "execution_count": 10,
   "metadata": {},
   "outputs": [],
   "source": [
    "def sort_var(x_weights, x_var):\n",
    "    x_var = sorted(x_var, key=lambda x: -1 * x_weights[str(x)])\n",
    "    return x_var"
   ]
  },
  {
   "cell_type": "code",
   "execution_count": 75,
   "metadata": {},
   "outputs": [],
   "source": [
    "stos = []\n",
    "import copy\n",
    "def branch_and_bound(problem, x_labels, stos, BFS = False, order = False):\n",
    "\n",
    "    best = 0\n",
    "    best_x = None\n",
    "\n",
    "    stos.append(copy.deepcopy(problem))\n",
    "\n",
    "    licznik = 2\n",
    "    while len(stos) > 0:\n",
    "        licznik += 1\n",
    "\n",
    "        p = get_node(stos, BFS)\n",
    "        res = getSolution(p)\n",
    "\n",
    "        if res is None: # if problem is infeasible, skip\n",
    "            continue\n",
    "\n",
    "        solution, x = res\n",
    "        if solution <= best: # if solution is worse than best, skip\n",
    "            continue\n",
    "\n",
    "        if check_int(p, x, x_labels): # if solution is integer and better than best, update best\n",
    "            if solution > best:\n",
    "                best = solution\n",
    "                best_x = x\n",
    "            continue\n",
    "\n",
    "        x_var = p.variables()\n",
    "\n",
    "        if order:\n",
    "            for i in range(len(x_var)-1, -1, -1):\n",
    "               if x_labels[str(x_var[i])] == \"Integer\":\n",
    "                    if x_var[i].value() % 1 != 0:\n",
    "\n",
    "                        pr = copy.deepcopy(p)\n",
    "                        pr.variables()[i].lowBound = x_var[i].value()//1 + 1\n",
    "                        stos.append(pr)\n",
    "\n",
    "                        pr = copy.deepcopy(p)\n",
    "                        pr.variables()[i].upBound = x_var[i].value()//1\n",
    "                        stos.append(pr)\n",
    "                        break\n",
    "        else:\n",
    "            for i in range(len(x_var)):\n",
    "                if x_labels[str(x_var[i])] == \"Integer\":\n",
    "                    if x_var[i].value() % 1 != 0:\n",
    "\n",
    "                        pr = copy.deepcopy(p)\n",
    "                        pr.variables()[i].lowBound = x_var[i].value()//1 + 1\n",
    "                        stos.append(pr)\n",
    "    \n",
    "                        pr = copy.deepcopy(p)\n",
    "                        pr.variables()[i].upBound = x_var[i].value()//1\n",
    "                        stos.append(pr)\n",
    "                        break\n",
    "\n",
    "    return best, best_x, licznik"
   ]
  },
  {
   "cell_type": "code",
   "execution_count": 76,
   "metadata": {},
   "outputs": [],
   "source": [
    "x_labels = {\"x1\": \"Integer\", \"x2\": \"Integer\", \"x3\": \"Integer\", \"x4\": \"Integer\", \"x5\": \"Integer\", \"x6\": \"Continuous\", \"x7\": \"Continuous\", \"x8\": \"Continuous\", \"x9\": \"Continuous\", \"x10\": \"Continuous\"}\n",
    "x, problem = getProblem(relaxed = True)"
   ]
  },
  {
   "cell_type": "code",
   "execution_count": 77,
   "metadata": {},
   "outputs": [
    {
     "name": "stdout",
     "output_type": "stream",
     "text": [
      "(207.0, [3.0, 3.0, 6.0, 4.0, 1.0, 1.0, 5.0, 5.0, 3.0, 2.0], 35)\n"
     ]
    }
   ],
   "source": [
    "print(branch_and_bound(problem, x_labels,  stos, BFS=False, order=False))"
   ]
  },
  {
   "cell_type": "code",
   "execution_count": 78,
   "metadata": {},
   "outputs": [
    {
     "name": "stdout",
     "output_type": "stream",
     "text": [
      "(207.0, [3.0, 3.0, 6.0, 4.0, 1.0, 1.0, 5.0, 5.0, 3.0, 2.0], 43)\n"
     ]
    }
   ],
   "source": [
    "print(branch_and_bound(problem, x_labels,  stos, BFS=True, order=False))"
   ]
  },
  {
   "cell_type": "code",
   "execution_count": 79,
   "metadata": {},
   "outputs": [
    {
     "name": "stdout",
     "output_type": "stream",
     "text": [
      "(207.0, [3.0, 3.0, 6.0, 4.0, 1.0, 1.0, 5.0, 5.0, 3.0, 2.0], 25)\n"
     ]
    }
   ],
   "source": [
    "print(branch_and_bound(problem, x_labels,  stos, BFS=True, order=True))"
   ]
  },
  {
   "cell_type": "code",
   "execution_count": 80,
   "metadata": {},
   "outputs": [
    {
     "name": "stdout",
     "output_type": "stream",
     "text": [
      "(207.0, [3.0, 3.0, 6.0, 4.0, 1.0, 1.0, 5.0, 5.0, 3.0, 2.0], 19)\n"
     ]
    }
   ],
   "source": [
    "print(branch_and_bound(problem, x_labels,  stos, BFS=False, order=True))\n"
   ]
  }
 ],
 "metadata": {
  "kernelspec": {
   "display_name": ".venv",
   "language": "python",
   "name": "python3"
  },
  "language_info": {
   "codemirror_mode": {
    "name": "ipython",
    "version": 3
   },
   "file_extension": ".py",
   "mimetype": "text/x-python",
   "name": "python",
   "nbconvert_exporter": "python",
   "pygments_lexer": "ipython3",
   "version": "3.11.7"
  }
 },
 "nbformat": 4,
 "nbformat_minor": 4
}
